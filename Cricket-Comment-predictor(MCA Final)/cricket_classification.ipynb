{
 "cells": [
  {
   "cell_type": "code",
   "execution_count": 1,
   "metadata": {},
   "outputs": [],
   "source": [
    "import pandas as pd\n",
    "import nltk\n",
    "import numpy as np\n",
    "import sklearn\n",
    "import string\n",
    "import re\n",
    "from nltk.corpus import stopwords\n",
    "# nltk.download('punkt')\n",
    "# rom nltk.tokenize import word_tokenize, sent_tokenize\n",
    "from nltk.tokenize import word_tokenize,sent_tokenize\n",
    "from sklearn.feature_extraction.text import TfidfVectorizer\n",
    "from sklearn import metrics,pipeline,feature_extraction, model_selection, naive_bayes, pipeline, manifold, preprocessing\n",
    "from sklearn.tree import DecisionTreeClassifier # Import Decision Tree Classifier\n",
    "from sklearn.model_selection import train_test_split # Import train_test_split function\n",
    "from sklearn import metrics #Import scikit-learn metrics module for accuracy calculation\n",
    "from sklearn.linear_model import LogisticRegression # for Logistic regression algo\n",
    "from sklearn import svm ##for SVM algo\n",
    "from sklearn.neighbors import KNeighborsClassifier #for KNN ALGO\n",
    "from sklearn.preprocessing import StandardScaler\n",
    "from nltk.stem import PorterStemmer #for stremming word\n",
    "# from sklearn.cross_validation import train_test_split"
   ]
  },
  {
   "cell_type": "code",
   "execution_count": 2,
   "metadata": {},
   "outputs": [
    {
     "data": {
      "text/html": [
       "<div>\n",
       "<style scoped>\n",
       "    .dataframe tbody tr th:only-of-type {\n",
       "        vertical-align: middle;\n",
       "    }\n",
       "\n",
       "    .dataframe tbody tr th {\n",
       "        vertical-align: top;\n",
       "    }\n",
       "\n",
       "    .dataframe thead th {\n",
       "        text-align: right;\n",
       "    }\n",
       "</style>\n",
       "<table border=\"1\" class=\"dataframe\">\n",
       "  <thead>\n",
       "    <tr style=\"text-align: right;\">\n",
       "      <th></th>\n",
       "      <th>Comment</th>\n",
       "      <th>opinion</th>\n",
       "    </tr>\n",
       "  </thead>\n",
       "  <tbody>\n",
       "    <tr>\n",
       "      <th>0</th>\n",
       "      <td>আমি এটার সঙ্গে যাইনি এখানে পারি মাধ্যমে করা হব...</td>\n",
       "      <td>2</td>\n",
       "    </tr>\n",
       "    <tr>\n",
       "      <th>1</th>\n",
       "      <td>যাত্রার অবিশ্বাস্য সূচনা মাত্র</td>\n",
       "      <td>0</td>\n",
       "    </tr>\n",
       "    <tr>\n",
       "      <th>2</th>\n",
       "      <td>দ্বিতীয় টেস্টে নিউজিল্যান্ডকে ৩৭২ রানে পরাজিত ...</td>\n",
       "      <td>2</td>\n",
       "    </tr>\n",
       "    <tr>\n",
       "      <th>3</th>\n",
       "      <td>একেই বলে স্বপ্নের অভিষেক!</td>\n",
       "      <td>2</td>\n",
       "    </tr>\n",
       "    <tr>\n",
       "      <th>4</th>\n",
       "      <td>দেশের মাটিতে শেষ পাঁচটি টেস্ট ইনিংসে চারটি হাফ...</td>\n",
       "      <td>2</td>\n",
       "    </tr>\n",
       "  </tbody>\n",
       "</table>\n",
       "</div>"
      ],
      "text/plain": [
       "                                             Comment  opinion\n",
       "0  আমি এটার সঙ্গে যাইনি এখানে পারি মাধ্যমে করা হব...        2\n",
       "1                     যাত্রার অবিশ্বাস্য সূচনা মাত্র        0\n",
       "2  দ্বিতীয় টেস্টে নিউজিল্যান্ডকে ৩৭২ রানে পরাজিত ...        2\n",
       "3                          একেই বলে স্বপ্নের অভিষেক!        2\n",
       "4  দেশের মাটিতে শেষ পাঁচটি টেস্ট ইনিংসে চারটি হাফ...        2"
      ]
     },
     "execution_count": 2,
     "metadata": {},
     "output_type": "execute_result"
    }
   ],
   "source": [
    "df=pd.read_excel('comments.xlsx')\n",
    "words=pd.read_excel(\"BN_stop_words.xlsx\")\n",
    "# del df['Unnamed: 0']\n",
    "df.head()"
   ]
  },
  {
   "cell_type": "code",
   "execution_count": 3,
   "metadata": {},
   "outputs": [
    {
     "data": {
      "text/html": [
       "<div>\n",
       "<style scoped>\n",
       "    .dataframe tbody tr th:only-of-type {\n",
       "        vertical-align: middle;\n",
       "    }\n",
       "\n",
       "    .dataframe tbody tr th {\n",
       "        vertical-align: top;\n",
       "    }\n",
       "\n",
       "    .dataframe thead th {\n",
       "        text-align: right;\n",
       "    }\n",
       "</style>\n",
       "<table border=\"1\" class=\"dataframe\">\n",
       "  <thead>\n",
       "    <tr style=\"text-align: right;\">\n",
       "      <th></th>\n",
       "      <th>Comment</th>\n",
       "      <th>opinion</th>\n",
       "    </tr>\n",
       "  </thead>\n",
       "  <tbody>\n",
       "    <tr>\n",
       "      <th>1993</th>\n",
       "      <td>জাতীয় দলে আসতে হলে আশরাফুল কে যোগ্যতা দিয়েই আস...</td>\n",
       "      <td>2</td>\n",
       "    </tr>\n",
       "    <tr>\n",
       "      <th>1994</th>\n",
       "      <td>\"শুভাগত হোমের মতো অফ ফর্মের প্লেয়ার এতো দ্রুত ...</td>\n",
       "      <td>1</td>\n",
       "    </tr>\n",
       "    <tr>\n",
       "      <th>1995</th>\n",
       "      <td>নতুন কোন খেলোয়াড়ই দেখছি না । নতুন খেলোয়াড়রা না...</td>\n",
       "      <td>0</td>\n",
       "    </tr>\n",
       "    <tr>\n",
       "      <th>1996</th>\n",
       "      <td>দুর্দান্ত রেকর্ডেরর জন্য কোহলীকে অভিনন্দন, সাথ...</td>\n",
       "      <td>2</td>\n",
       "    </tr>\n",
       "    <tr>\n",
       "      <th>1997</th>\n",
       "      <td>তাহলে আবার প্রমাণ হল যে কোহলি সেঞ্চুরি করলেই ভ...</td>\n",
       "      <td>1</td>\n",
       "    </tr>\n",
       "  </tbody>\n",
       "</table>\n",
       "</div>"
      ],
      "text/plain": [
       "                                                Comment  opinion\n",
       "1993  জাতীয় দলে আসতে হলে আশরাফুল কে যোগ্যতা দিয়েই আস...        2\n",
       "1994  \"শুভাগত হোমের মতো অফ ফর্মের প্লেয়ার এতো দ্রুত ...        1\n",
       "1995  নতুন কোন খেলোয়াড়ই দেখছি না । নতুন খেলোয়াড়রা না...        0\n",
       "1996  দুর্দান্ত রেকর্ডেরর জন্য কোহলীকে অভিনন্দন, সাথ...        2\n",
       "1997  তাহলে আবার প্রমাণ হল যে কোহলি সেঞ্চুরি করলেই ভ...        1"
      ]
     },
     "execution_count": 3,
     "metadata": {},
     "output_type": "execute_result"
    }
   ],
   "source": [
    "df.tail()"
   ]
  },
  {
   "cell_type": "code",
   "execution_count": 4,
   "metadata": {},
   "outputs": [
    {
     "data": {
      "text/html": [
       "<div>\n",
       "<style scoped>\n",
       "    .dataframe tbody tr th:only-of-type {\n",
       "        vertical-align: middle;\n",
       "    }\n",
       "\n",
       "    .dataframe tbody tr th {\n",
       "        vertical-align: top;\n",
       "    }\n",
       "\n",
       "    .dataframe thead th {\n",
       "        text-align: right;\n",
       "    }\n",
       "</style>\n",
       "<table border=\"1\" class=\"dataframe\">\n",
       "  <thead>\n",
       "    <tr style=\"text-align: right;\">\n",
       "      <th></th>\n",
       "      <th>Words</th>\n",
       "    </tr>\n",
       "  </thead>\n",
       "  <tbody>\n",
       "    <tr>\n",
       "      <th>0</th>\n",
       "      <td>অতএব</td>\n",
       "    </tr>\n",
       "    <tr>\n",
       "      <th>1</th>\n",
       "      <td>অথচ</td>\n",
       "    </tr>\n",
       "    <tr>\n",
       "      <th>2</th>\n",
       "      <td>অথবা</td>\n",
       "    </tr>\n",
       "    <tr>\n",
       "      <th>3</th>\n",
       "      <td>অনুযায়ী</td>\n",
       "    </tr>\n",
       "    <tr>\n",
       "      <th>4</th>\n",
       "      <td>অনেক</td>\n",
       "    </tr>\n",
       "  </tbody>\n",
       "</table>\n",
       "</div>"
      ],
      "text/plain": [
       "      Words\n",
       "0      অতএব\n",
       "1       অথচ\n",
       "2      অথবা\n",
       "3  অনুযায়ী\n",
       "4      অনেক"
      ]
     },
     "execution_count": 4,
     "metadata": {},
     "output_type": "execute_result"
    }
   ],
   "source": [
    "words.head()"
   ]
  },
  {
   "cell_type": "code",
   "execution_count": 5,
   "metadata": {},
   "outputs": [
    {
     "data": {
      "text/plain": [
       "Comment    0\n",
       "opinion    0\n",
       "dtype: int64"
      ]
     },
     "execution_count": 5,
     "metadata": {},
     "output_type": "execute_result"
    }
   ],
   "source": [
    "df.isna().sum()"
   ]
  },
  {
   "cell_type": "code",
   "execution_count": 6,
   "metadata": {},
   "outputs": [
    {
     "name": "stdout",
     "output_type": "stream",
     "text": [
      "{'হয়', 'পরে', 'হত', 'হয়েছেন', 'করেন', 'দুটো', 'যান', 'জানায়', 'পাওয়া', 'জানানো', 'এখানে', 'বিভিন্ন ', 'থেকেও', 'চেষ্টা', 'হওয়া', 'মধ্যভাগে', 'চায়', 'যায়', '…', 'উচিত', 'জন্য', 'তাতে', 'সে', 'সুতরাং', 'দেখা', 'পর', 'হলে', 'ফিরে', 'থাকায়', 'কমনে', 'নিতে', 'দিয়েছে', 'থাকেন', 'নতুন', 'দেয়', 'গোটা', 'সেটাও', 'একে', 'সামনে', 'ওরা', 'যেখানে', 'ছিলেন', 'হওয়ায়', 'এখানেই', 'অনেকেই', 'করিয়ে', 'জানিয়েছে', 'অথবা', 'থাকায়', 'তাকে', 'তিনঐ', 'দিয়েছেন', 'একটি', 'যখন', 'বিশেষ', 'দিন', 'জ্নজন', 'যাঁরা', 'এখনও', 'করিয়া', 'ভাবেই', 'রয়েছে', 'বদলে', 'নেওয়ার', 'এত', 'তত', 'জনের', 'তারৈ', 'থাকবে', 'হল', 'যাতে', 'সঙ্গেও', 'খুব', 'আমার', 'হয়েছে', 'এখন', 'তখন', 'যত', 'এতটাই', 'দেওয়া', 'আর', 'হতেই', 'ব্যবহার', 'তুমি', 'এঁরা', 'গেছে', 'বিষয়টি', 'মধ্যেই', 'দেখতে', 'তাঁরা', 'দ্বারা', 'ও', 'করবেন', 'হয়তো', 'ওদের', 'থেকে', 'মাধ্যমে', 'যদিও', 'প্রাথমিক', 'দিয়ে', 'তিনি', 'দুটি', 'যাদের', 'হয় ', 'হোক', 'করেই', 'করেছিলেন', 'বক্তব্য', 'হয়েই', 'এমনি', 'গেলে', 'করছেন', 'প্রায়', 'জানা', 'যাবে', 'রকম', 'এক্', 'অনেক', 'জানিয়ে', 'কয়েকটি', 'জনকে', 'নেই', 'হলো', 'এব', 'সমস্ত', 'করেছে', 'চলে', 'রয়েছে', 'দিলেন', 'কাছে', 'কিছু ', 'গিয়েছে', 'অন্য', 'থাকবেন', 'চার', 'রেখে', 'সেটা', 'কয়েক', 'ওঁর', 'তবু', 'গিয়েছে', 'কয়েক', 'হইতে', 'হতে', 'ফলে', 'করাই', 'স্বয়ং', 'জানিয়েছে', 'করায়', 'কেন', 'হয়নি', 'যেন', 'আজ', 'কারণ', 'নাকি', 'মোট', 'এমন', 'করায়', 'যিনি', 'অনুযায়ী', 'চেয়ে', 'যা', 'আমরা', 'কে', ' ই', 'পেয়্র্', 'টি ', 'তার', 'হয়', 'র ', 'তাহার', 'হওয়ার', 'ধরে', 'এটা', 'অবশ্য', 'এল', 'ছিল', 'নেওয়া', 'ই ', 'দিতে', 'পক্ষে', 'সঙ্গে ', 'হয়েই', 'অবধি', 'আছে', 'জন্যওজে', 'থাকা', 'কিংবা', 'দিয়েছে', 'দু', 'স্বয়ং', 'ঠিক', 'এরা', 'লক্ষ  ', 'তুলে', 'করা', 'ওর', 'পেয়ে', 'নানা', 'থাকে', 'কখনও', 'অন্তত', 'কোনো', 'করিয়া', 'ক্ষেত্রে', 'আগেই', 'একবার', ',', 'বা', 'দুই', 'বিনা', 'জানিয়ে', 'তেমন', 'উপরে', 'মাত্র', 'পেয়ে', 'করিতে', 'উপর', 'দেয়', 'যাওয়ার', 'আগামী', 'চালু', 'তাহাতে', 'মধ্যেও', 'থেকেই', 'কাজে', 'সাধারণ', 'পর্যন্ত', 'প্রথম ', 'চেয়ে', 'পরেই', 'হয়ে', 'আপনি', 'কেউ', 'এই', 'বন', 'তারা', 'ও ', 'যাকে', 'বসে', 'প্রভৃতি', 'হিসাবে', 'হন', 'কোনও', 'হওয়া', 'তারপর', 'বি', 'অতএব', 'বলে', 'করিয়ে', 'তাঁর', '………', 'যাচ্ছে', 'নিয়ে', 'আদ্যভাগে', 'বিষয়টি', 'সহিত', 'করি', 'কী', 'এদের', 'করার', 'তাহা', 'অর্থাত', 'কোন', 'করতে', 'যতটা', 'দেওয়ার', 'প্রতি', 'এই ', 'হইবে', 'নিজে', 'কোটি ', 'ভাবে', 'হয়েছেন', 'নাই', 'যার', 'বলেছেন', 'কেউই', 'আরও', 'কয়েকটি', 'হইয়া', 'মধ্যে', 'পারেন', 'গিয়ে', 'কাউকে', 'নয়', 'ছাড়া', 'ওঁদের', 'করলে', 'মোটেই', '\"', 'দিকে', '|', 'জন', 'হচ্ছে', 'হবেন', 'তোমার', 'তাঁকে', 'এটাই', 'আগে', 'কাজ', 'শুরু ', 'দেওয়ার', 'উনি', 'আমি', 'র', 'হয়েছিল', 'তাও', 'সি', 'নিজের', 'লক্ষ', 'গুলি', 'ফের', 'ই', 'শুরু', 'তো', 'হৈলে', 'কবে', 'নিজেদের', 'ইত্যাদি', 'সবার', 'সেই', 'ধরা', 'এ', 'করলেন', 'পি', 'জে', 'সহ  ', 'ঐ', 'জানতে', 'অনুযায়ী', 'যথেষ্ট', 'বক্তব্য ', 'হয়েছে', 'আমাকে', 'আবার', 'পরেও', 'বরং', 'এটি', 'সব', 'একই', 'তাঁাহারা', 'ধামার', 'তা', 'করবে', 'টি', 'তাঁদের', 'তাদের', 'রাখা', 'দেওয়া', 'ব্যাপারে', 'আর ', 'এতে', 'উত্তর', 'করছে', 'হওয়ার', 'এস', 'দিয়েছেন', 'বার', 'কোটি', 'যাওয়া', 'হইয়া', 'মতোই', 'করেছেন', 'বললেন', 'বিভিন্ন', 'সেখানে', 'চান', 'কারও', 'ইহা', 'এবং', 'সহ', 'বেশি', 'শুধু ', 'কেখা', 'তাহলে', 'কিছুই', 'হয়নি', 'ওঁরা', 'তথা', 'যারা', 'কারণ ', 'ওই', 'নয়', 'নিয়ে', 'বহু', 'সম্প্রতি', 'দেখে', 'জানায়', 'ওখানে', 'করে', 'বলেন', 'প্রায়', 'মনে', '…..', 'তবে', 'হবে', 'আপনার', 'নাগাদ', 'অথচ', 'পারে', 'সেখান', 'তিনিও', 'পাচ', 'চায়', 'দেন', 'এসে', 'হলেই', 'আমাদের', 'আই', 'প্রযন্ত', 'যদি', 'হয়েছিল', 'নেওয়ার', 'হয়তো', 'যাঁর', 'ছাড়াও', 'হলেও', 'হওয়ায়', 'গেল', 'কাছ', 'অনেকে', 'না', 'কি', 'এঁদের', 'কিছু', 'বলল', 'কত', 'যেতে', 'যাওয়া', 'নিজেই', 'বলেন ', 'সেটাই', 'সঙ্গে', 'হয়ে', 'হাজার', 'যায়', 'এর', 'ওকে', '\" \"', 'তাই', 'যাওয়ার', 'গিয়ে', 'স্পষ্ট', 'দিয়ে', 'যে', 'প্রথম', 'বেশ', 'শুধু', 'যেমন', 'এবার', 'কিন্তু', 'পারি', 'সেটি', 'এমনকী', 'মতো', 'বলা', 'নেওয়া', 'পাওয়া', 'দুই ', 'বলতে', 'বাদে'}\n",
      "462\n"
     ]
    }
   ],
   "source": [
    "stop_words=set(words['Words'])\n",
    "print(stop_words);print(len(stop_words))"
   ]
  },
  {
   "cell_type": "code",
   "execution_count": 7,
   "metadata": {},
   "outputs": [],
   "source": [
    "# del df['Unnamed: 2']\n",
    "# del df['Unnamed: 3']\n",
    "# del df['Unnamed: 4']"
   ]
  },
  {
   "cell_type": "code",
   "execution_count": 8,
   "metadata": {},
   "outputs": [],
   "source": [
    "# df.to_excel(\"comments.xlsx\")"
   ]
  },
  {
   "cell_type": "code",
   "execution_count": 9,
   "metadata": {},
   "outputs": [
    {
     "name": "stdout",
     "output_type": "stream",
     "text": [
      "<class 'pandas.core.frame.DataFrame'>\n",
      "RangeIndex: 1998 entries, 0 to 1997\n",
      "Data columns (total 2 columns):\n",
      " #   Column   Non-Null Count  Dtype \n",
      "---  ------   --------------  ----- \n",
      " 0   Comment  1998 non-null   object\n",
      " 1   opinion  1998 non-null   int64 \n",
      "dtypes: int64(1), object(1)\n",
      "memory usage: 31.3+ KB\n"
     ]
    }
   ],
   "source": [
    "df.info()"
   ]
  },
  {
   "cell_type": "code",
   "execution_count": 10,
   "metadata": {},
   "outputs": [],
   "source": [
    "# X=df['Comment'].values\n",
    "# y=df['opinion'].values"
   ]
  },
  {
   "cell_type": "code",
   "execution_count": 11,
   "metadata": {},
   "outputs": [
    {
     "data": {
      "text/plain": [
       "2    817\n",
       "1    641\n",
       "0    540\n",
       "Name: opinion, dtype: int64"
      ]
     },
     "execution_count": 11,
     "metadata": {},
     "output_type": "execute_result"
    }
   ],
   "source": [
    "df['opinion'].value_counts()"
   ]
  },
  {
   "cell_type": "code",
   "execution_count": 12,
   "metadata": {},
   "outputs": [],
   "source": [
    "def remove_punctuation(text):\n",
    "    punctuations = '''!()-[]{};:'\"\\,<>./?@#$%^&*_~'''\n",
    "    punctuationfree=\"\".join([i for i in text if i not in punctuations])\n",
    "    return punctuationfree"
   ]
  },
  {
   "cell_type": "code",
   "execution_count": 13,
   "metadata": {},
   "outputs": [
    {
     "name": "stdout",
     "output_type": "stream",
     "text": [
      "1998\n"
     ]
    }
   ],
   "source": [
    "length=df[\"Comment\"]\n",
    "print(len(length))"
   ]
  },
  {
   "cell_type": "code",
   "execution_count": 14,
   "metadata": {},
   "outputs": [],
   "source": [
    "def stop_word(tokens):\n",
    "    stop_word_free=\" \".join([w for w in tokens if w not in stop_words])\n",
    "        #print(stop_word_free)  \n",
    "    return stop_word_free\n",
    "\n",
    "    "
   ]
  },
  {
   "cell_type": "code",
   "execution_count": 15,
   "metadata": {},
   "outputs": [],
   "source": [
    "def tokenization(text):\n",
    "    tokens = word_tokenize(text)\n",
    "    return tokens"
   ]
  },
  {
   "cell_type": "code",
   "execution_count": 16,
   "metadata": {},
   "outputs": [],
   "source": [
    "clean_data=df['Comment'].apply(lambda x:remove_punctuation(x))\n",
    "token_data = clean_data.apply(lambda x: tokenization(x))\n",
    "sw_free_data=token_data.apply(lambda x:stop_word(x))\n",
    "# stopped_data=df['Comment'].apply(lambda x:stop_word(x))\n",
    "# sopped_data=clean_data.apply(lambda x: stop_word(x))"
   ]
  },
  {
   "cell_type": "code",
   "execution_count": 17,
   "metadata": {},
   "outputs": [
    {
     "data": {
      "text/plain": [
       "array(['এটার যাইনি', 'যাত্রার অবিশ্বাস্য সূচনা',\n",
       "       'দ্বিতীয় টেস্টে নিউজিল্যান্ডকে ৩৭২ রানে পরাজিত ১০ ব্যবধানে টেস্ট সিরিজ জয়লাভ করলো টিম ইন্ডিয়া।।',\n",
       "       ...,\n",
       "       'খেলোয়াড়ই দেখছি । খেলোয়াড়রা উঠে আসলে বিপিএল স্বার্থ বাণিজ্যিকই । নতুনদের দেশের বিদেশের সেরা সেরা খেলোয়াড়দের সাথে পারফর্ম ভাল সুযোগ প্লাটফর্ম ।',\n",
       "       'দুর্দান্ত রেকর্ডেরর কোহলীকে অভিনন্দন সাথে বৎসর ভারতের মাটিতে ওয়ান্ডে জয়ের অভিনন্দন ওয়েস্ট ইন্ডিজকে',\n",
       "       'প্রমাণ কোহলি সেঞ্চুরি করলেই ভারত হারে। আসলে খেলে। দেশের খেললে জিতবে যাই পিচও ভারতকে বাঁচাতে পারল না। হার একেবারে ৪৩ রানের বিশাল পরাজয়। পৃথিবীর অন্যতম দুর্বল দলের দেশের মাঠে। হাহাহাহাহা। পুরো ৫০ ওভারও ব্যাট'],\n",
       "      dtype=object)"
      ]
     },
     "execution_count": 17,
     "metadata": {},
     "output_type": "execute_result"
    }
   ],
   "source": [
    "sw_free_data.values"
   ]
  },
  {
   "cell_type": "code",
   "execution_count": 18,
   "metadata": {},
   "outputs": [],
   "source": [
    "#tf-Idf model\n",
    "corpus=sw_free_data.values\n",
    "vectorizer = TfidfVectorizer()\n",
    "X = vectorizer.fit_transform(corpus)\n",
    "y=df['opinion'].values"
   ]
  },
  {
   "cell_type": "code",
   "execution_count": 19,
   "metadata": {},
   "outputs": [
    {
     "data": {
      "text/plain": [
       "1998"
      ]
     },
     "execution_count": 19,
     "metadata": {},
     "output_type": "execute_result"
    }
   ],
   "source": [
    "# vectorizer.get_feature_names()\n",
    "# X.shape,y\n",
    "len(y)"
   ]
  },
  {
   "cell_type": "markdown",
   "metadata": {},
   "source": [
    "### <center> NAIVE BAYES START </center>"
   ]
  },
  {
   "cell_type": "code",
   "execution_count": 20,
   "metadata": {},
   "outputs": [],
   "source": [
    "classifier_model = naive_bayes.MultinomialNB()"
   ]
  },
  {
   "cell_type": "code",
   "execution_count": 21,
   "metadata": {},
   "outputs": [],
   "source": [
    "\n",
    "## pipeline\n",
    "#model = pipeline.Pipeline([(\"vectorizer\", vectorizer), (\"classifier\", classifier)])"
   ]
  },
  {
   "cell_type": "code",
   "execution_count": 22,
   "metadata": {},
   "outputs": [],
   "source": [
    "X_train, X_test, y_train, y_test = train_test_split(X,y,test_size=0.25, random_state=42)"
   ]
  },
  {
   "cell_type": "code",
   "execution_count": 23,
   "metadata": {},
   "outputs": [
    {
     "data": {
      "text/plain": [
       "((1498,), (500,))"
      ]
     },
     "execution_count": 23,
     "metadata": {},
     "output_type": "execute_result"
    }
   ],
   "source": [
    "y_train.shape,y_test.shape"
   ]
  },
  {
   "cell_type": "code",
   "execution_count": 24,
   "metadata": {},
   "outputs": [],
   "source": [
    "classifier_model.fit(X_train,y_train)\n",
    "pred=classifier_model.predict(X_test)"
   ]
  },
  {
   "cell_type": "code",
   "execution_count": 25,
   "metadata": {},
   "outputs": [
    {
     "data": {
      "text/plain": [
       "0.456"
      ]
     },
     "execution_count": 25,
     "metadata": {},
     "output_type": "execute_result"
    }
   ],
   "source": [
    "metrics.accuracy_score(y_test, pred)"
   ]
  },
  {
   "cell_type": "code",
   "execution_count": 26,
   "metadata": {},
   "outputs": [
    {
     "data": {
      "text/plain": [
       "0.456"
      ]
     },
     "execution_count": 26,
     "metadata": {},
     "output_type": "execute_result"
    }
   ],
   "source": [
    "metrics.accuracy_score(y_test, pred)"
   ]
  },
  {
   "cell_type": "markdown",
   "metadata": {},
   "source": [
    "### NAIVE BAYES END"
   ]
  },
  {
   "cell_type": "markdown",
   "metadata": {},
   "source": [
    "## <center>DECISITION TREE START</center>"
   ]
  },
  {
   "cell_type": "code",
   "execution_count": 27,
   "metadata": {},
   "outputs": [],
   "source": [
    "X_train, X_test, y_train, y_test = train_test_split(X, y, test_size=0.3, random_state=1)"
   ]
  },
  {
   "cell_type": "code",
   "execution_count": 28,
   "metadata": {},
   "outputs": [],
   "source": [
    "clf = DecisionTreeClassifier()\n",
    "clf = clf.fit(X_train,y_train)\n",
    "y_pred = clf.predict(X_test)"
   ]
  },
  {
   "cell_type": "code",
   "execution_count": 29,
   "metadata": {},
   "outputs": [
    {
     "name": "stdout",
     "output_type": "stream",
     "text": [
      "Accuracy of Decision Tree: 0.38166666666666665\n"
     ]
    }
   ],
   "source": [
    "print(\"Accuracy of Decision Tree:\",metrics.accuracy_score(y_test, y_pred))"
   ]
  },
  {
   "cell_type": "markdown",
   "metadata": {},
   "source": [
    "### Decision Tree End"
   ]
  },
  {
   "cell_type": "markdown",
   "metadata": {},
   "source": [
    "## <center> LOGISTIC REGRESSION START</center>"
   ]
  },
  {
   "cell_type": "code",
   "execution_count": 30,
   "metadata": {},
   "outputs": [],
   "source": [
    "X_train,X_test,y_train,y_test=train_test_split(X,y,test_size=0.25,random_state=0)"
   ]
  },
  {
   "cell_type": "code",
   "execution_count": 31,
   "metadata": {},
   "outputs": [],
   "source": [
    "logreg = LogisticRegression()\n",
    "logreg.fit(X_train,y_train)\n",
    "y_pred=logreg.predict(X_test)"
   ]
  },
  {
   "cell_type": "code",
   "execution_count": 32,
   "metadata": {},
   "outputs": [
    {
     "name": "stdout",
     "output_type": "stream",
     "text": [
      "Accuracy of  Logistic Regression : 0.452\n"
     ]
    }
   ],
   "source": [
    "print(\"Accuracy of  Logistic Regression :\",metrics.accuracy_score(y_test, y_pred))"
   ]
  },
  {
   "cell_type": "markdown",
   "metadata": {},
   "source": [
    "### LOGISTIC REGRESSION END"
   ]
  },
  {
   "cell_type": "markdown",
   "metadata": {},
   "source": [
    "## <center>SVM Start</center>"
   ]
  },
  {
   "cell_type": "code",
   "execution_count": 33,
   "metadata": {},
   "outputs": [],
   "source": [
    "X_train, X_test, y_train, y_test = train_test_split(X,y, test_size=0.3,random_state=109) "
   ]
  },
  {
   "cell_type": "code",
   "execution_count": 34,
   "metadata": {},
   "outputs": [],
   "source": [
    "clf = svm.SVC(kernel='linear')\n",
    "clf.fit(X_train, y_train)\n",
    "y_pred = clf.predict(X_test)"
   ]
  },
  {
   "cell_type": "code",
   "execution_count": 35,
   "metadata": {},
   "outputs": [
    {
     "name": "stdout",
     "output_type": "stream",
     "text": [
      "Accuracy of  Support vector machine : 0.4116666666666667\n"
     ]
    }
   ],
   "source": [
    "print(\"Accuracy of  Support vector machine :\",metrics.accuracy_score(y_test, y_pred))"
   ]
  },
  {
   "cell_type": "markdown",
   "metadata": {},
   "source": [
    "### SVM End"
   ]
  },
  {
   "cell_type": "markdown",
   "metadata": {},
   "source": [
    "## <center> KNN START</center>"
   ]
  },
  {
   "cell_type": "code",
   "execution_count": 36,
   "metadata": {},
   "outputs": [],
   "source": [
    "X_train, X_test, y_train, y_test = train_test_split(X, y, test_size=0.20)"
   ]
  },
  {
   "cell_type": "code",
   "execution_count": 37,
   "metadata": {},
   "outputs": [],
   "source": [
    "classifier = KNeighborsClassifier(n_neighbors=5)\n",
    "classifier.fit(X_train, y_train)\n",
    "y_pred = classifier.predict(X_test)"
   ]
  },
  {
   "cell_type": "code",
   "execution_count": 38,
   "metadata": {},
   "outputs": [
    {
     "name": "stdout",
     "output_type": "stream",
     "text": [
      "Accuracy of  KNN : 0.33\n"
     ]
    }
   ],
   "source": [
    "print(\"Accuracy of  KNN :\",metrics.accuracy_score(y_test, y_pred))"
   ]
  },
  {
   "cell_type": "markdown",
   "metadata": {},
   "source": [
    "### KNN END"
   ]
  },
  {
   "cell_type": "code",
   "execution_count": 39,
   "metadata": {},
   "outputs": [
    {
     "data": {
      "text/plain": [
       "Index(['Comment', 'opinion'], dtype='object')"
      ]
     },
     "execution_count": 39,
     "metadata": {},
     "output_type": "execute_result"
    }
   ],
   "source": [
    "df.columns"
   ]
  },
  {
   "cell_type": "code",
   "execution_count": 40,
   "metadata": {},
   "outputs": [],
   "source": [
    "### split the data\n",
    "from sklearn.model_selection import train_test_split\n",
    "review = df['Comment'].values\n",
    "label = df['opinion'].values\n",
    "review_train, review_test, label_train, label_test = train_test_split(\n",
    "    review, label, test_size=0.25, random_state=1000)"
   ]
  },
  {
   "cell_type": "code",
   "execution_count": 41,
   "metadata": {},
   "outputs": [
    {
     "data": {
      "text/plain": [
       "<1498x1502 sparse matrix of type '<class 'numpy.int64'>'\n",
       "\twith 14353 stored elements in Compressed Sparse Row format>"
      ]
     },
     "execution_count": 41,
     "metadata": {},
     "output_type": "execute_result"
    }
   ],
   "source": [
    "from sklearn.feature_extraction.text import CountVectorizer\n",
    "review_vectorizer = CountVectorizer()\n",
    "review_vectorizer.fit(review_train)\n",
    "Xlr_train = review_vectorizer.transform(review_train)\n",
    "Xlr_test  = review_vectorizer.transform(review_test)\n",
    "Xlr_train"
   ]
  },
  {
   "cell_type": "code",
   "execution_count": 42,
   "metadata": {},
   "outputs": [
    {
     "name": "stdout",
     "output_type": "stream",
     "text": [
      "Accuracy: 0.412\n"
     ]
    }
   ],
   "source": [
    "from sklearn.linear_model import LogisticRegression\n",
    "LRmodel = LogisticRegression()\n",
    "LRmodel.fit(Xlr_train, label_train)\n",
    "score = LRmodel.score(Xlr_test, label_test)\n",
    "print(\"Accuracy:\", score) "
   ]
  },
  {
   "cell_type": "markdown",
   "metadata": {},
   "source": [
    "## CNN"
   ]
  },
  {
   "cell_type": "code",
   "execution_count": 43,
   "metadata": {},
   "outputs": [
    {
     "name": "stdout",
     "output_type": "stream",
     "text": [
      "মাশরাফি হলো বাংলাদেশ ক্রিকেটের ম্যাজিক স্টিক।\n",
      "[299, 185, 15, 128, 2785, 2786]\n"
     ]
    }
   ],
   "source": [
    "from keras.preprocessing.text import Tokenizer\n",
    "tokenizer = Tokenizer(num_words=5000)\n",
    "tokenizer.fit_on_texts(review_train)\n",
    "Xcnn_train = tokenizer.texts_to_sequences(review_train)\n",
    "Xcnn_test = tokenizer.texts_to_sequences(review_test)\n",
    "vocab_size = len(tokenizer.word_index) + 1  \n",
    "print(review_train[1])\n",
    "print(Xcnn_train[1]) "
   ]
  },
  {
   "cell_type": "code",
   "execution_count": 44,
   "metadata": {},
   "outputs": [
    {
     "name": "stdout",
     "output_type": "stream",
     "text": [
      "[  92  184    2 2783   10  134 2784 1721   21    0    0    0    0    0\n",
      "    0    0    0    0    0    0    0    0    0    0    0    0    0    0\n",
      "    0    0    0    0    0    0    0    0    0    0    0    0    0    0\n",
      "    0    0    0    0    0    0    0    0    0    0    0    0    0    0\n",
      "    0    0    0    0    0    0    0    0    0    0    0    0    0    0\n",
      "    0    0    0    0    0    0    0    0    0    0    0    0    0    0\n",
      "    0    0    0    0    0    0    0    0    0    0    0    0    0    0\n",
      "    0    0]\n"
     ]
    }
   ],
   "source": [
    "from keras.preprocessing.sequence import pad_sequences\n",
    "maxlen = 100\n",
    "Xcnn_train = pad_sequences(Xcnn_train, padding='post', maxlen=maxlen)\n",
    "Xcnn_test = pad_sequences(Xcnn_test, padding='post', maxlen=maxlen)\n",
    "print(Xcnn_train[0, :]) "
   ]
  },
  {
   "cell_type": "code",
   "execution_count": 45,
   "metadata": {},
   "outputs": [],
   "source": [
    "from keras.models import Sequential\n",
    "from keras import layers"
   ]
  },
  {
   "cell_type": "code",
   "execution_count": 46,
   "metadata": {},
   "outputs": [
    {
     "name": "stdout",
     "output_type": "stream",
     "text": [
      "Model: \"sequential\"\n",
      "_________________________________________________________________\n",
      " Layer (type)                Output Shape              Param #   \n",
      "=================================================================\n",
      " embedding (Embedding)       (None, 100, 200)          1465200   \n",
      "                                                                 \n",
      " conv1d (Conv1D)             (None, 96, 128)           128128    \n",
      "                                                                 \n",
      " global_max_pooling1d (Globa  (None, 128)              0         \n",
      " lMaxPooling1D)                                                  \n",
      "                                                                 \n",
      " dense (Dense)               (None, 10)                1290      \n",
      "                                                                 \n",
      " dense_1 (Dense)             (None, 1)                 11        \n",
      "                                                                 \n",
      "=================================================================\n",
      "Total params: 1,594,629\n",
      "Trainable params: 1,594,629\n",
      "Non-trainable params: 0\n",
      "_________________________________________________________________\n"
     ]
    }
   ],
   "source": [
    "##making model using layers\n",
    "embedding_dim = 200\n",
    "textcnnmodel = Sequential()\n",
    "textcnnmodel.add(layers.Embedding(vocab_size, embedding_dim, input_length=maxlen))\n",
    "textcnnmodel.add(layers.Conv1D(128, 5, activation='relu'))\n",
    "textcnnmodel.add(layers.GlobalMaxPooling1D())\n",
    "textcnnmodel.add(layers.Dense(10, activation='relu'))\n",
    "textcnnmodel.add(layers.Dense(1, activation='sigmoid'))\n",
    "textcnnmodel.compile(optimizer='adam',\n",
    "               loss='binary_crossentropy',\n",
    "               metrics=['accuracy'])\n",
    "textcnnmodel.summary()"
   ]
  },
  {
   "cell_type": "code",
   "execution_count": 47,
   "metadata": {},
   "outputs": [
    {
     "name": "stdout",
     "output_type": "stream",
     "text": [
      "Training Accuracy: 0.3224\n",
      "Testing Accuracy:  0.3160\n"
     ]
    }
   ],
   "source": [
    "## fit the model and check accurency\n",
    "textcnnmodel.fit(Xcnn_train, label_train,\n",
    "                     epochs=10,\n",
    "                     verbose=False,\n",
    "                     validation_data=(Xcnn_test, label_test),\n",
    "                     batch_size=50)\n",
    "loss, accuracy = textcnnmodel.evaluate(Xcnn_train, label_train, verbose=False)\n",
    "print(\"Training Accuracy: {:.4f}\".format(accuracy))\n",
    "loss, accuracy = textcnnmodel.evaluate(Xcnn_test, label_test, verbose=False)\n",
    "print(\"Testing Accuracy:  {:.4f}\".format(accuracy))"
   ]
  },
  {
   "cell_type": "code",
   "execution_count": null,
   "metadata": {},
   "outputs": [],
   "source": []
  }
 ],
 "metadata": {
  "kernelspec": {
   "display_name": "Python 3 (ipykernel)",
   "language": "python",
   "name": "python3"
  },
  "language_info": {
   "codemirror_mode": {
    "name": "ipython",
    "version": 3
   },
   "file_extension": ".py",
   "mimetype": "text/x-python",
   "name": "python",
   "nbconvert_exporter": "python",
   "pygments_lexer": "ipython3",
   "version": "3.9.7"
  }
 },
 "nbformat": 4,
 "nbformat_minor": 2
}
