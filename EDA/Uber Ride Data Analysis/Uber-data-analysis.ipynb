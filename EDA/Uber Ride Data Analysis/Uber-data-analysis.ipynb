{
 "cells": [
  {
   "cell_type": "code",
   "execution_count": 1,
   "id": "3a84a77b",
   "metadata": {},
   "outputs": [],
   "source": [
    "import pandas as pd\n",
    "import numpy as np\n",
    "import matplotlib.pyplot as plt\n",
    "%matplotlib inline\n",
    "import seaborn as sns\n",
    "import warnings\n",
    "warnings.filterwarnings('ignore')"
   ]
  },
  {
   "cell_type": "markdown",
   "id": "3e75cf6d",
   "metadata": {},
   "source": [
    "### Load Dataset"
   ]
  },
  {
   "cell_type": "code",
   "execution_count": 2,
   "id": "eb4d60ff",
   "metadata": {},
   "outputs": [],
   "source": [
    "df_apr14=pd.read_csv(\"dataset/uber-raw-data-apr14.csv\")\n",
    "df_aug14=pd.read_csv(\"dataset/uber-raw-data-aug14.csv\")\n",
    "df_jul14=pd.read_csv(\"dataset/uber-raw-data-jul14.csv\")\n",
    "df_jun14=pd.read_csv(\"dataset/uber-raw-data-jun14.csv\")\n",
    "df_may14=pd.read_csv(\"dataset/uber-raw-data-may14.csv\")\n",
    "df_sep14=pd.read_csv(\"dataset/uber-raw-data-sep14.csv\")\n",
    "\n",
    "df=df_apr14.append([df_aug14,df_jul14,df_jun14,df_may14,df_sep14],ignore_index=True)"
   ]
  },
  {
   "cell_type": "code",
   "execution_count": 3,
   "id": "780779ca",
   "metadata": {},
   "outputs": [
    {
     "data": {
      "text/html": [
       "<div>\n",
       "<style scoped>\n",
       "    .dataframe tbody tr th:only-of-type {\n",
       "        vertical-align: middle;\n",
       "    }\n",
       "\n",
       "    .dataframe tbody tr th {\n",
       "        vertical-align: top;\n",
       "    }\n",
       "\n",
       "    .dataframe thead th {\n",
       "        text-align: right;\n",
       "    }\n",
       "</style>\n",
       "<table border=\"1\" class=\"dataframe\">\n",
       "  <thead>\n",
       "    <tr style=\"text-align: right;\">\n",
       "      <th></th>\n",
       "      <th>Date/Time</th>\n",
       "      <th>Lat</th>\n",
       "      <th>Lon</th>\n",
       "      <th>Base</th>\n",
       "    </tr>\n",
       "  </thead>\n",
       "  <tbody>\n",
       "    <tr>\n",
       "      <th>0</th>\n",
       "      <td>4/1/2014 0:11:00</td>\n",
       "      <td>40.7690</td>\n",
       "      <td>-73.9549</td>\n",
       "      <td>B02512</td>\n",
       "    </tr>\n",
       "    <tr>\n",
       "      <th>1</th>\n",
       "      <td>4/1/2014 0:17:00</td>\n",
       "      <td>40.7267</td>\n",
       "      <td>-74.0345</td>\n",
       "      <td>B02512</td>\n",
       "    </tr>\n",
       "    <tr>\n",
       "      <th>2</th>\n",
       "      <td>4/1/2014 0:21:00</td>\n",
       "      <td>40.7316</td>\n",
       "      <td>-73.9873</td>\n",
       "      <td>B02512</td>\n",
       "    </tr>\n",
       "    <tr>\n",
       "      <th>3</th>\n",
       "      <td>4/1/2014 0:28:00</td>\n",
       "      <td>40.7588</td>\n",
       "      <td>-73.9776</td>\n",
       "      <td>B02512</td>\n",
       "    </tr>\n",
       "    <tr>\n",
       "      <th>4</th>\n",
       "      <td>4/1/2014 0:33:00</td>\n",
       "      <td>40.7594</td>\n",
       "      <td>-73.9722</td>\n",
       "      <td>B02512</td>\n",
       "    </tr>\n",
       "  </tbody>\n",
       "</table>\n",
       "</div>"
      ],
      "text/plain": [
       "          Date/Time      Lat      Lon    Base\n",
       "0  4/1/2014 0:11:00  40.7690 -73.9549  B02512\n",
       "1  4/1/2014 0:17:00  40.7267 -74.0345  B02512\n",
       "2  4/1/2014 0:21:00  40.7316 -73.9873  B02512\n",
       "3  4/1/2014 0:28:00  40.7588 -73.9776  B02512\n",
       "4  4/1/2014 0:33:00  40.7594 -73.9722  B02512"
      ]
     },
     "execution_count": 3,
     "metadata": {},
     "output_type": "execute_result"
    }
   ],
   "source": [
    "df.head()"
   ]
  },
  {
   "cell_type": "code",
   "execution_count": 4,
   "id": "68567759",
   "metadata": {},
   "outputs": [
    {
     "name": "stdout",
     "output_type": "stream",
     "text": [
      "<class 'pandas.core.frame.DataFrame'>\n",
      "RangeIndex: 4534327 entries, 0 to 4534326\n",
      "Data columns (total 4 columns):\n",
      " #   Column     Dtype  \n",
      "---  ------     -----  \n",
      " 0   Date/Time  object \n",
      " 1   Lat        float64\n",
      " 2   Lon        float64\n",
      " 3   Base       object \n",
      "dtypes: float64(2), object(2)\n",
      "memory usage: 138.4+ MB\n"
     ]
    }
   ],
   "source": [
    "df.info()"
   ]
  },
  {
   "cell_type": "code",
   "execution_count": 5,
   "id": "5ce29a8c",
   "metadata": {},
   "outputs": [
    {
     "data": {
      "text/plain": [
       "(4534327, 4)"
      ]
     },
     "execution_count": 5,
     "metadata": {},
     "output_type": "execute_result"
    }
   ],
   "source": [
    "df.shape"
   ]
  },
  {
   "cell_type": "code",
   "execution_count": 6,
   "id": "52e7d77a",
   "metadata": {},
   "outputs": [
    {
     "data": {
      "text/plain": [
       "Date/Time     object\n",
       "Lat          float64\n",
       "Lon          float64\n",
       "Base          object\n",
       "dtype: object"
      ]
     },
     "execution_count": 6,
     "metadata": {},
     "output_type": "execute_result"
    }
   ],
   "source": [
    "df.dtypes"
   ]
  },
  {
   "cell_type": "code",
   "execution_count": 7,
   "id": "840d03da",
   "metadata": {},
   "outputs": [],
   "source": [
    "df['Date/Time']=pd.to_datetime(df['Date/Time'],format='%m/%d/%Y %H:%M:%S')\n"
   ]
  },
  {
   "cell_type": "code",
   "execution_count": 8,
   "id": "f966bf87",
   "metadata": {},
   "outputs": [],
   "source": [
    "#adding new columns name\n",
    "df['Month']=df['Date/Time'].dt.month_name()\n",
    "df['Weekday']=df['Date/Time'].dt.day_name()\n",
    "df['Day']=df['Date/Time'].dt.day\n",
    "df['Hour']=df['Date/Time'].dt.hour\n",
    "df['Minute']=df['Date/Time'].dt.minute"
   ]
  },
  {
   "cell_type": "code",
   "execution_count": 9,
   "id": "94229e8d",
   "metadata": {},
   "outputs": [
    {
     "data": {
      "text/html": [
       "<div>\n",
       "<style scoped>\n",
       "    .dataframe tbody tr th:only-of-type {\n",
       "        vertical-align: middle;\n",
       "    }\n",
       "\n",
       "    .dataframe tbody tr th {\n",
       "        vertical-align: top;\n",
       "    }\n",
       "\n",
       "    .dataframe thead th {\n",
       "        text-align: right;\n",
       "    }\n",
       "</style>\n",
       "<table border=\"1\" class=\"dataframe\">\n",
       "  <thead>\n",
       "    <tr style=\"text-align: right;\">\n",
       "      <th></th>\n",
       "      <th>Date/Time</th>\n",
       "      <th>Lat</th>\n",
       "      <th>Lon</th>\n",
       "      <th>Base</th>\n",
       "      <th>Month</th>\n",
       "      <th>Weekday</th>\n",
       "      <th>Day</th>\n",
       "      <th>Hour</th>\n",
       "      <th>Minute</th>\n",
       "    </tr>\n",
       "  </thead>\n",
       "  <tbody>\n",
       "    <tr>\n",
       "      <th>0</th>\n",
       "      <td>2014-04-01 00:11:00</td>\n",
       "      <td>40.7690</td>\n",
       "      <td>-73.9549</td>\n",
       "      <td>B02512</td>\n",
       "      <td>April</td>\n",
       "      <td>Tuesday</td>\n",
       "      <td>1</td>\n",
       "      <td>0</td>\n",
       "      <td>11</td>\n",
       "    </tr>\n",
       "    <tr>\n",
       "      <th>1</th>\n",
       "      <td>2014-04-01 00:17:00</td>\n",
       "      <td>40.7267</td>\n",
       "      <td>-74.0345</td>\n",
       "      <td>B02512</td>\n",
       "      <td>April</td>\n",
       "      <td>Tuesday</td>\n",
       "      <td>1</td>\n",
       "      <td>0</td>\n",
       "      <td>17</td>\n",
       "    </tr>\n",
       "    <tr>\n",
       "      <th>2</th>\n",
       "      <td>2014-04-01 00:21:00</td>\n",
       "      <td>40.7316</td>\n",
       "      <td>-73.9873</td>\n",
       "      <td>B02512</td>\n",
       "      <td>April</td>\n",
       "      <td>Tuesday</td>\n",
       "      <td>1</td>\n",
       "      <td>0</td>\n",
       "      <td>21</td>\n",
       "    </tr>\n",
       "    <tr>\n",
       "      <th>3</th>\n",
       "      <td>2014-04-01 00:28:00</td>\n",
       "      <td>40.7588</td>\n",
       "      <td>-73.9776</td>\n",
       "      <td>B02512</td>\n",
       "      <td>April</td>\n",
       "      <td>Tuesday</td>\n",
       "      <td>1</td>\n",
       "      <td>0</td>\n",
       "      <td>28</td>\n",
       "    </tr>\n",
       "    <tr>\n",
       "      <th>4</th>\n",
       "      <td>2014-04-01 00:33:00</td>\n",
       "      <td>40.7594</td>\n",
       "      <td>-73.9722</td>\n",
       "      <td>B02512</td>\n",
       "      <td>April</td>\n",
       "      <td>Tuesday</td>\n",
       "      <td>1</td>\n",
       "      <td>0</td>\n",
       "      <td>33</td>\n",
       "    </tr>\n",
       "  </tbody>\n",
       "</table>\n",
       "</div>"
      ],
      "text/plain": [
       "            Date/Time      Lat      Lon    Base  Month  Weekday  Day  Hour  \\\n",
       "0 2014-04-01 00:11:00  40.7690 -73.9549  B02512  April  Tuesday    1     0   \n",
       "1 2014-04-01 00:17:00  40.7267 -74.0345  B02512  April  Tuesday    1     0   \n",
       "2 2014-04-01 00:21:00  40.7316 -73.9873  B02512  April  Tuesday    1     0   \n",
       "3 2014-04-01 00:28:00  40.7588 -73.9776  B02512  April  Tuesday    1     0   \n",
       "4 2014-04-01 00:33:00  40.7594 -73.9722  B02512  April  Tuesday    1     0   \n",
       "\n",
       "   Minute  \n",
       "0      11  \n",
       "1      17  \n",
       "2      21  \n",
       "3      28  \n",
       "4      33  "
      ]
     },
     "execution_count": 9,
     "metadata": {},
     "output_type": "execute_result"
    }
   ],
   "source": [
    "df.head()"
   ]
  },
  {
   "cell_type": "code",
   "execution_count": 10,
   "id": "7f261c01",
   "metadata": {},
   "outputs": [
    {
     "data": {
      "text/plain": [
       "Date/Time    datetime64[ns]\n",
       "Lat                 float64\n",
       "Lon                 float64\n",
       "Base                 object\n",
       "Month                object\n",
       "Weekday              object\n",
       "Day                   int64\n",
       "Hour                  int64\n",
       "Minute                int64\n",
       "dtype: object"
      ]
     },
     "execution_count": 10,
     "metadata": {},
     "output_type": "execute_result"
    }
   ],
   "source": [
    "df.dtypes"
   ]
  },
  {
   "cell_type": "markdown",
   "id": "4b2ae48a",
   "metadata": {},
   "source": [
    "### Trip by Hour"
   ]
  },
  {
   "cell_type": "code",
   "execution_count": 11,
   "id": "d3c92fd4",
   "metadata": {},
   "outputs": [
    {
     "data": {
      "text/html": [
       "<div>\n",
       "<style scoped>\n",
       "    .dataframe tbody tr th:only-of-type {\n",
       "        vertical-align: middle;\n",
       "    }\n",
       "\n",
       "    .dataframe tbody tr th {\n",
       "        vertical-align: top;\n",
       "    }\n",
       "\n",
       "    .dataframe thead th {\n",
       "        text-align: right;\n",
       "    }\n",
       "</style>\n",
       "<table border=\"1\" class=\"dataframe\">\n",
       "  <thead>\n",
       "    <tr style=\"text-align: right;\">\n",
       "      <th></th>\n",
       "      <th>Number_of_Trip</th>\n",
       "    </tr>\n",
       "    <tr>\n",
       "      <th>Hour</th>\n",
       "      <th></th>\n",
       "    </tr>\n",
       "  </thead>\n",
       "  <tbody>\n",
       "    <tr>\n",
       "      <th>0</th>\n",
       "      <td>103836</td>\n",
       "    </tr>\n",
       "    <tr>\n",
       "      <th>1</th>\n",
       "      <td>67227</td>\n",
       "    </tr>\n",
       "    <tr>\n",
       "      <th>2</th>\n",
       "      <td>45865</td>\n",
       "    </tr>\n",
       "    <tr>\n",
       "      <th>3</th>\n",
       "      <td>48287</td>\n",
       "    </tr>\n",
       "    <tr>\n",
       "      <th>4</th>\n",
       "      <td>55230</td>\n",
       "    </tr>\n",
       "  </tbody>\n",
       "</table>\n",
       "</div>"
      ],
      "text/plain": [
       "      Number_of_Trip\n",
       "Hour                \n",
       "0             103836\n",
       "1              67227\n",
       "2              45865\n",
       "3              48287\n",
       "4              55230"
      ]
     },
     "execution_count": 11,
     "metadata": {},
     "output_type": "execute_result"
    }
   ],
   "source": [
    "df_hour_grouped=df.groupby('Hour').count()\n",
    "df_hour=pd.DataFrame({\"Number_of_Trip\":df_hour_grouped.values[:,0]},index=df_hour_grouped.index)\n",
    "df_hour.head()"
   ]
  },
  {
   "cell_type": "code",
   "execution_count": 12,
   "id": "a945b6d9",
   "metadata": {},
   "outputs": [
    {
     "data": {
      "image/png": "[encoded data removed]",
      "text/plain": [
       "<Figure size 576x432 with 1 Axes>"
      ]
     },
     "metadata": {
      "needs_background": "light"
     },
     "output_type": "display_data"
    }
   ],
   "source": [
    "df_hour.plot(kind='bar',figsize=(8,6))\n",
    "plt.xlabel(\"Hour\")\n",
    "plt.ylabel(\"Trip-In-Hour\")\n",
    "plt.title(\"Trip-By-Hour\")\n",
    "plt.show()"
   ]
  },
  {
   "cell_type": "code",
   "execution_count": 13,
   "id": "0e1c601c",
   "metadata": {},
   "outputs": [
    {
     "name": "stdout",
     "output_type": "stream",
     "text": [
      "The highest number of trips is 336190 and the corresponding hour is 17:00 \n"
     ]
    }
   ],
   "source": [
    "max_number_trips_hour=max(df_hour['Number_of_Trip'])\n",
    "#print(max_number_trips_hour)\n",
    "max_hour=df_hour[df_hour['Number_of_Trip']==max_number_trips_hour].index[0]\n",
    "#print(max_hour)             \n",
    "print(\"The highest number of trips is {} and the corresponding hour is {}:00 \".format(max_number_trips_hour,max_hour))             "
   ]
  },
  {
   "cell_type": "markdown",
   "id": "95a4b5f3",
   "metadata": {},
   "source": [
    "<p>We observed that the maimum number of trip between 16:00 to 18:00 hours , to see this data it is the time to go go his/her own house <br><br><strong>So,We can say that majority Uber's clinets are workers.</strong></p>"
   ]
  },
  {
   "cell_type": "markdown",
   "id": "b24296e5",
   "metadata": {},
   "source": [
    "### Trips by Months"
   ]
  },
  {
   "cell_type": "code",
   "execution_count": 14,
   "id": "49abe8a8",
   "metadata": {},
   "outputs": [
    {
     "data": {
      "text/html": [
       "<div>\n",
       "<style scoped>\n",
       "    .dataframe tbody tr th:only-of-type {\n",
       "        vertical-align: middle;\n",
       "    }\n",
       "\n",
       "    .dataframe tbody tr th {\n",
       "        vertical-align: top;\n",
       "    }\n",
       "\n",
       "    .dataframe thead th {\n",
       "        text-align: right;\n",
       "    }\n",
       "</style>\n",
       "<table border=\"1\" class=\"dataframe\">\n",
       "  <thead>\n",
       "    <tr style=\"text-align: right;\">\n",
       "      <th></th>\n",
       "      <th>Number_of_Trip</th>\n",
       "    </tr>\n",
       "    <tr>\n",
       "      <th>Month</th>\n",
       "      <th></th>\n",
       "    </tr>\n",
       "  </thead>\n",
       "  <tbody>\n",
       "    <tr>\n",
       "      <th>April</th>\n",
       "      <td>564516</td>\n",
       "    </tr>\n",
       "    <tr>\n",
       "      <th>August</th>\n",
       "      <td>829275</td>\n",
       "    </tr>\n",
       "    <tr>\n",
       "      <th>July</th>\n",
       "      <td>796121</td>\n",
       "    </tr>\n",
       "    <tr>\n",
       "      <th>June</th>\n",
       "      <td>663844</td>\n",
       "    </tr>\n",
       "    <tr>\n",
       "      <th>May</th>\n",
       "      <td>652435</td>\n",
       "    </tr>\n",
       "    <tr>\n",
       "      <th>September</th>\n",
       "      <td>1028136</td>\n",
       "    </tr>\n",
       "  </tbody>\n",
       "</table>\n",
       "</div>"
      ],
      "text/plain": [
       "           Number_of_Trip\n",
       "Month                    \n",
       "April              564516\n",
       "August             829275\n",
       "July               796121\n",
       "June               663844\n",
       "May                652435\n",
       "September         1028136"
      ]
     },
     "execution_count": 14,
     "metadata": {},
     "output_type": "execute_result"
    }
   ],
   "source": [
    "df_month_grouped=df.groupby(['Month'],sort=False).count()\n",
    "df_month=pd.DataFrame({\"Number_of_Trip\":df_month_grouped.values[:,0]},index=df_month_grouped.index)\n",
    "df_month"
   ]
  },
  {
   "cell_type": "code",
   "execution_count": 15,
   "id": "689a2699",
   "metadata": {},
   "outputs": [
    {
     "data": {
      "image/png": "[encoded data removed]",
      "text/plain": [
       "<Figure size 576x432 with 1 Axes>"
      ]
     },
     "metadata": {
      "needs_background": "light"
     },
     "output_type": "display_data"
    }
   ],
   "source": [
    "df_month.plot(kind='bar',figsize=(8,6))\n",
    "plt.xlabel(\"Month\")\n",
    "plt.ylabel(\"Number-of-Trips\")\n",
    "plt.title(\"Trip-By-Months\")\n",
    "plt.show()"
   ]
  },
  {
   "cell_type": "markdown",
   "id": "17fc9a59",
   "metadata": {},
   "source": [
    "<p>From this above graph we see that in September month maximum number of uber rides are done.</p>"
   ]
  },
  {
   "cell_type": "markdown",
   "id": "63cac312",
   "metadata": {},
   "source": [
    "### Trip by Weekday"
   ]
  },
  {
   "cell_type": "code",
   "execution_count": 16,
   "id": "98beb114",
   "metadata": {},
   "outputs": [
    {
     "data": {
      "text/html": [
       "<div>\n",
       "<style scoped>\n",
       "    .dataframe tbody tr th:only-of-type {\n",
       "        vertical-align: middle;\n",
       "    }\n",
       "\n",
       "    .dataframe tbody tr th {\n",
       "        vertical-align: top;\n",
       "    }\n",
       "\n",
       "    .dataframe thead th {\n",
       "        text-align: right;\n",
       "    }\n",
       "</style>\n",
       "<table border=\"1\" class=\"dataframe\">\n",
       "  <thead>\n",
       "    <tr style=\"text-align: right;\">\n",
       "      <th></th>\n",
       "      <th>Number_of_Trip</th>\n",
       "    </tr>\n",
       "    <tr>\n",
       "      <th>Weekday</th>\n",
       "      <th></th>\n",
       "    </tr>\n",
       "  </thead>\n",
       "  <tbody>\n",
       "    <tr>\n",
       "      <th>Tuesday</th>\n",
       "      <td>663789</td>\n",
       "    </tr>\n",
       "    <tr>\n",
       "      <th>Wednesday</th>\n",
       "      <td>696488</td>\n",
       "    </tr>\n",
       "    <tr>\n",
       "      <th>Thursday</th>\n",
       "      <td>755145</td>\n",
       "    </tr>\n",
       "    <tr>\n",
       "      <th>Friday</th>\n",
       "      <td>741139</td>\n",
       "    </tr>\n",
       "    <tr>\n",
       "      <th>Saturday</th>\n",
       "      <td>646114</td>\n",
       "    </tr>\n",
       "    <tr>\n",
       "      <th>Sunday</th>\n",
       "      <td>490180</td>\n",
       "    </tr>\n",
       "    <tr>\n",
       "      <th>Monday</th>\n",
       "      <td>541472</td>\n",
       "    </tr>\n",
       "  </tbody>\n",
       "</table>\n",
       "</div>"
      ],
      "text/plain": [
       "           Number_of_Trip\n",
       "Weekday                  \n",
       "Tuesday            663789\n",
       "Wednesday          696488\n",
       "Thursday           755145\n",
       "Friday             741139\n",
       "Saturday           646114\n",
       "Sunday             490180\n",
       "Monday             541472"
      ]
     },
     "execution_count": 16,
     "metadata": {},
     "output_type": "execute_result"
    }
   ],
   "source": [
    "df_weekday_grouped=df.groupby(['Weekday'],sort=False).count()\n",
    "df_weekday=pd.DataFrame({\"Number_of_Trip\":df_weekday_grouped.values[:,0]},index=df_weekday_grouped.index)\n",
    "df_weekday"
   ]
  },
  {
   "cell_type": "code",
   "execution_count": 17,
   "id": "273bfba3",
   "metadata": {},
   "outputs": [
    {
     "data": {
      "image/png": "[encoded data removed]",
      "text/plain": [
       "<Figure size 576x432 with 1 Axes>"
      ]
     },
     "metadata": {
      "needs_background": "light"
     },
     "output_type": "display_data"
    }
   ],
   "source": [
    "df_weekday.plot(kind='bar',figsize=(8,6))\n",
    "plt.xlabel(\"Weekday\")\n",
    "plt.ylabel(\"Number-of-Trips\")\n",
    "plt.title(\"Trip-By-Weekday\")\n",
    "plt.show()"
   ]
  },
  {
   "cell_type": "code",
   "execution_count": 18,
   "id": "3f0dafd4",
   "metadata": {},
   "outputs": [
    {
     "name": "stdout",
     "output_type": "stream",
     "text": [
      "The highest number of trips is 755145 and the corresponding day is Thursday\n"
     ]
    }
   ],
   "source": [
    "max_number_trips_weekday=max(df_weekday['Number_of_Trip'])\n",
    "#print(max_number_trips_hour)\n",
    "max_trip=df_weekday[df_weekday['Number_of_Trip']==max_number_trips_weekday].index[0]\n",
    "#print(max_hour)             \n",
    "print(\"The highest number of trips is {} and the corresponding day is {}\".format(max_number_trips_weekday,max_trip))"
   ]
  },
  {
   "cell_type": "code",
   "execution_count": 19,
   "id": "a10eccd0",
   "metadata": {},
   "outputs": [
    {
     "name": "stdout",
     "output_type": "stream",
     "text": [
      "The lowest number of trips is 490180 and the corresponding day is Sunday\n"
     ]
    }
   ],
   "source": [
    "min_number_trips_weekday=min(df_weekday['Number_of_Trip'])\n",
    "#print(max_number_trips_hour)\n",
    "min_trip=df_weekday[df_weekday['Number_of_Trip']==min_number_trips_weekday].index[0]\n",
    "#print(max_hour)             \n",
    "print(\"The lowest number of trips is {} and the corresponding day is {}\".format(min_number_trips_weekday,min_trip))"
   ]
  },
  {
   "cell_type": "markdown",
   "id": "38ee9d38",
   "metadata": {},
   "source": [
    "### Trip by Day"
   ]
  },
  {
   "cell_type": "code",
   "execution_count": 25,
   "id": "82877e7c",
   "metadata": {},
   "outputs": [
    {
     "data": {
      "text/html": [
       "<div>\n",
       "<style scoped>\n",
       "    .dataframe tbody tr th:only-of-type {\n",
       "        vertical-align: middle;\n",
       "    }\n",
       "\n",
       "    .dataframe tbody tr th {\n",
       "        vertical-align: top;\n",
       "    }\n",
       "\n",
       "    .dataframe thead th {\n",
       "        text-align: right;\n",
       "    }\n",
       "</style>\n",
       "<table border=\"1\" class=\"dataframe\">\n",
       "  <thead>\n",
       "    <tr style=\"text-align: right;\">\n",
       "      <th></th>\n",
       "      <th>Number_of_Trip</th>\n",
       "    </tr>\n",
       "    <tr>\n",
       "      <th>Day</th>\n",
       "      <th></th>\n",
       "    </tr>\n",
       "  </thead>\n",
       "  <tbody>\n",
       "    <tr>\n",
       "      <th>1</th>\n",
       "      <td>127430</td>\n",
       "    </tr>\n",
       "    <tr>\n",
       "      <th>2</th>\n",
       "      <td>143201</td>\n",
       "    </tr>\n",
       "    <tr>\n",
       "      <th>3</th>\n",
       "      <td>142983</td>\n",
       "    </tr>\n",
       "    <tr>\n",
       "      <th>4</th>\n",
       "      <td>140923</td>\n",
       "    </tr>\n",
       "    <tr>\n",
       "      <th>5</th>\n",
       "      <td>147054</td>\n",
       "    </tr>\n",
       "  </tbody>\n",
       "</table>\n",
       "</div>"
      ],
      "text/plain": [
       "     Number_of_Trip\n",
       "Day                \n",
       "1            127430\n",
       "2            143201\n",
       "3            142983\n",
       "4            140923\n",
       "5            147054"
      ]
     },
     "execution_count": 25,
     "metadata": {},
     "output_type": "execute_result"
    }
   ],
   "source": [
    "df_day_grouped=df.groupby(['Day']).count()\n",
    "df_day=pd.DataFrame({\"Number_of_Trip\":df_day_grouped.values[:,0]},index=df_day_grouped.index)\n",
    "df_day.head()"
   ]
  },
  {
   "cell_type": "code",
   "execution_count": 27,
   "id": "6534448b",
   "metadata": {},
   "outputs": [
    {
     "data": {
      "image/png": "[encoded data removed]",
      "text/plain": [
       "<Figure size 1080x432 with 1 Axes>"
      ]
     },
     "metadata": {
      "needs_background": "light"
     },
     "output_type": "display_data"
    }
   ],
   "source": [
    "df_day.plot(kind='bar',figsize=(15,6))\n",
    "plt.xlabel(\"Day\")\n",
    "plt.ylabel(\"Number-of-Trips\")\n",
    "plt.title(\"Trip-By-Day\")\n",
    "plt.show()"
   ]
  },
  {
   "cell_type": "markdown",
   "id": "74899b55",
   "metadata": {},
   "source": [
    "<p>The number of trips for the day 31 is a lot less than the others because April, June and September have 30 days.</p>"
   ]
  },
  {
   "cell_type": "code",
   "execution_count": 28,
   "id": "b0a6d718",
   "metadata": {},
   "outputs": [
    {
     "data": {
      "text/html": [
       "<div>\n",
       "<style scoped>\n",
       "    .dataframe tbody tr th:only-of-type {\n",
       "        vertical-align: middle;\n",
       "    }\n",
       "\n",
       "    .dataframe tbody tr th {\n",
       "        vertical-align: top;\n",
       "    }\n",
       "\n",
       "    .dataframe thead th {\n",
       "        text-align: right;\n",
       "    }\n",
       "</style>\n",
       "<table border=\"1\" class=\"dataframe\">\n",
       "  <thead>\n",
       "    <tr style=\"text-align: right;\">\n",
       "      <th></th>\n",
       "      <th>Date/Time</th>\n",
       "      <th>Lat</th>\n",
       "      <th>Lon</th>\n",
       "      <th>Base</th>\n",
       "      <th>Month</th>\n",
       "      <th>Weekday</th>\n",
       "      <th>Day</th>\n",
       "      <th>Hour</th>\n",
       "      <th>Minute</th>\n",
       "    </tr>\n",
       "  </thead>\n",
       "  <tbody>\n",
       "    <tr>\n",
       "      <th>0</th>\n",
       "      <td>2014-04-01 00:11:00</td>\n",
       "      <td>40.7690</td>\n",
       "      <td>-73.9549</td>\n",
       "      <td>B02512</td>\n",
       "      <td>April</td>\n",
       "      <td>Tuesday</td>\n",
       "      <td>1</td>\n",
       "      <td>0</td>\n",
       "      <td>11</td>\n",
       "    </tr>\n",
       "    <tr>\n",
       "      <th>1</th>\n",
       "      <td>2014-04-01 00:17:00</td>\n",
       "      <td>40.7267</td>\n",
       "      <td>-74.0345</td>\n",
       "      <td>B02512</td>\n",
       "      <td>April</td>\n",
       "      <td>Tuesday</td>\n",
       "      <td>1</td>\n",
       "      <td>0</td>\n",
       "      <td>17</td>\n",
       "    </tr>\n",
       "  </tbody>\n",
       "</table>\n",
       "</div>"
      ],
      "text/plain": [
       "            Date/Time      Lat      Lon    Base  Month  Weekday  Day  Hour  \\\n",
       "0 2014-04-01 00:11:00  40.7690 -73.9549  B02512  April  Tuesday    1     0   \n",
       "1 2014-04-01 00:17:00  40.7267 -74.0345  B02512  April  Tuesday    1     0   \n",
       "\n",
       "   Minute  \n",
       "0      11  \n",
       "1      17  "
      ]
     },
     "execution_count": 28,
     "metadata": {},
     "output_type": "execute_result"
    }
   ],
   "source": [
    "df.head(2)"
   ]
  },
  {
   "cell_type": "markdown",
   "id": "3bdad72a",
   "metadata": {},
   "source": [
    "### Trip by Hour Months"
   ]
  },
  {
   "cell_type": "code",
   "execution_count": 30,
   "id": "08b45eb2",
   "metadata": {},
   "outputs": [
    {
     "data": {
      "text/html": [
       "<div>\n",
       "<style scoped>\n",
       "    .dataframe tbody tr th:only-of-type {\n",
       "        vertical-align: middle;\n",
       "    }\n",
       "\n",
       "    .dataframe tbody tr th {\n",
       "        vertical-align: top;\n",
       "    }\n",
       "\n",
       "    .dataframe thead th {\n",
       "        text-align: right;\n",
       "    }\n",
       "</style>\n",
       "<table border=\"1\" class=\"dataframe\">\n",
       "  <thead>\n",
       "    <tr style=\"text-align: right;\">\n",
       "      <th></th>\n",
       "      <th></th>\n",
       "      <th>Number_of_Trip</th>\n",
       "    </tr>\n",
       "    <tr>\n",
       "      <th>Hour</th>\n",
       "      <th>Month</th>\n",
       "      <th></th>\n",
       "    </tr>\n",
       "  </thead>\n",
       "  <tbody>\n",
       "    <tr>\n",
       "      <th rowspan=\"6\" valign=\"top\">0</th>\n",
       "      <th>April</th>\n",
       "      <td>11910</td>\n",
       "    </tr>\n",
       "    <tr>\n",
       "      <th>August</th>\n",
       "      <td>21451</td>\n",
       "    </tr>\n",
       "    <tr>\n",
       "      <th>July</th>\n",
       "      <td>17953</td>\n",
       "    </tr>\n",
       "    <tr>\n",
       "      <th>June</th>\n",
       "      <td>14514</td>\n",
       "    </tr>\n",
       "    <tr>\n",
       "      <th>May</th>\n",
       "      <td>13875</td>\n",
       "    </tr>\n",
       "    <tr>\n",
       "      <th>September</th>\n",
       "      <td>24133</td>\n",
       "    </tr>\n",
       "    <tr>\n",
       "      <th rowspan=\"4\" valign=\"top\">1</th>\n",
       "      <th>April</th>\n",
       "      <td>7769</td>\n",
       "    </tr>\n",
       "    <tr>\n",
       "      <th>August</th>\n",
       "      <td>14471</td>\n",
       "    </tr>\n",
       "    <tr>\n",
       "      <th>July</th>\n",
       "      <td>11527</td>\n",
       "    </tr>\n",
       "    <tr>\n",
       "      <th>June</th>\n",
       "      <td>9167</td>\n",
       "    </tr>\n",
       "  </tbody>\n",
       "</table>\n",
       "</div>"
      ],
      "text/plain": [
       "                Number_of_Trip\n",
       "Hour Month                    \n",
       "0    April               11910\n",
       "     August              21451\n",
       "     July                17953\n",
       "     June                14514\n",
       "     May                 13875\n",
       "     September           24133\n",
       "1    April                7769\n",
       "     August              14471\n",
       "     July                11527\n",
       "     June                 9167"
      ]
     },
     "execution_count": 30,
     "metadata": {},
     "output_type": "execute_result"
    }
   ],
   "source": [
    "df_hour_month_grouped=df.groupby(['Hour','Month']).count()\n",
    "df_hour_month=pd.DataFrame({\"Number_of_Trip\":df_hour_month_grouped.values[:,0]},df_hour_month_grouped.index)\n",
    "df_hour_month.head(10)"
   ]
  },
  {
   "cell_type": "code",
   "execution_count": 32,
   "id": "e5dba0e9",
   "metadata": {},
   "outputs": [
    {
     "data": {
      "text/html": [
       "<div>\n",
       "<style scoped>\n",
       "    .dataframe tbody tr th:only-of-type {\n",
       "        vertical-align: middle;\n",
       "    }\n",
       "\n",
       "    .dataframe tbody tr th {\n",
       "        vertical-align: top;\n",
       "    }\n",
       "\n",
       "    .dataframe thead th {\n",
       "        text-align: right;\n",
       "    }\n",
       "</style>\n",
       "<table border=\"1\" class=\"dataframe\">\n",
       "  <thead>\n",
       "    <tr style=\"text-align: right;\">\n",
       "      <th></th>\n",
       "      <th>index</th>\n",
       "      <th>Hour</th>\n",
       "      <th>Month</th>\n",
       "      <th>Number_of_Trip</th>\n",
       "    </tr>\n",
       "  </thead>\n",
       "  <tbody>\n",
       "    <tr>\n",
       "      <th>0</th>\n",
       "      <td>0</td>\n",
       "      <td>0</td>\n",
       "      <td>April</td>\n",
       "      <td>11910</td>\n",
       "    </tr>\n",
       "    <tr>\n",
       "      <th>1</th>\n",
       "      <td>1</td>\n",
       "      <td>0</td>\n",
       "      <td>August</td>\n",
       "      <td>21451</td>\n",
       "    </tr>\n",
       "    <tr>\n",
       "      <th>2</th>\n",
       "      <td>2</td>\n",
       "      <td>0</td>\n",
       "      <td>July</td>\n",
       "      <td>17953</td>\n",
       "    </tr>\n",
       "    <tr>\n",
       "      <th>3</th>\n",
       "      <td>3</td>\n",
       "      <td>0</td>\n",
       "      <td>June</td>\n",
       "      <td>14514</td>\n",
       "    </tr>\n",
       "    <tr>\n",
       "      <th>4</th>\n",
       "      <td>4</td>\n",
       "      <td>0</td>\n",
       "      <td>May</td>\n",
       "      <td>13875</td>\n",
       "    </tr>\n",
       "  </tbody>\n",
       "</table>\n",
       "</div>"
      ],
      "text/plain": [
       "   index  Hour   Month  Number_of_Trip\n",
       "0      0     0   April           11910\n",
       "1      1     0  August           21451\n",
       "2      2     0    July           17953\n",
       "3      3     0    June           14514\n",
       "4      4     0     May           13875"
      ]
     },
     "execution_count": 32,
     "metadata": {},
     "output_type": "execute_result"
    }
   ],
   "source": [
    "df_hour_month.reset_index(inplace=True)\n",
    "df_hour_month.head()"
   ]
  },
  {
   "cell_type": "code",
   "execution_count": 37,
   "id": "1b91f8d9",
   "metadata": {},
   "outputs": [
    {
     "data": {
      "text/plain": [
       "array([[11910, 21451, 17953, 14514, 13875, 24133],\n",
       "       [ 7769, 14471, 11527,  9167,  8186, 16107],\n",
       "       [ 4935, 10105,  8562,  6189,  5372, 10702],\n",
       "       [ 5040, 10376,  9199,  6937,  5946, 10789],\n",
       "       [ 6095, 11774, 10040,  7701,  6945, 12675],\n",
       "       [ 9476, 16525, 14932, 11955, 10789, 20262],\n",
       "       [18498, 24907, 23456, 22030, 21015, 33307],\n",
       "       [24924, 34064, 32545, 30834, 27413, 43314],\n",
       "       [22843, 34566, 33387, 29771, 25460, 44477],\n",
       "       [17939, 30195, 28486, 24298, 20507, 38542],\n",
       "       [17865, 30706, 28558, 23584, 20801, 37634],\n",
       "       [18774, 31778, 30120, 24155, 22055, 38821],\n",
       "       [19425, 32106, 30900, 25233, 23595, 39193],\n",
       "       [22603, 35764, 35832, 28937, 27699, 45042],\n",
       "       [27190, 40644, 41357, 34428, 34363, 52643],\n",
       "       [35324, 48197, 46053, 41586, 43087, 61219],\n",
       "       [42003, 53481, 52403, 48162, 49127, 68224],\n",
       "       [45475, 57122, 58260, 50452, 51508, 73373],\n",
       "       [43003, 55390, 57268, 45013, 48965, 75040],\n",
       "       [38923, 53008, 52332, 38203, 42387, 69660],\n",
       "       [36244, 51674, 51859, 40108, 40731, 63988],\n",
       "       [36964, 51354, 49528, 40791, 42217, 60606],\n",
       "       [30645, 46008, 42218, 35614, 35556, 51817],\n",
       "       [20649, 33609, 29346, 24182, 24836, 36568]], dtype=int64)"
      ]
     },
     "execution_count": 37,
     "metadata": {},
     "output_type": "execute_result"
    }
   ],
   "source": [
    "data_hour_month=df_hour_month['Number_of_Trip'].values.reshape(24,6)\n",
    "data_hour_month"
   ]
  },
  {
   "cell_type": "code",
   "execution_count": 44,
   "id": "30d36c08",
   "metadata": {},
   "outputs": [],
   "source": [
    "df_hour_month=pd.DataFrame(data=data_hour_month,index=df['Hour'].unique(),columns=df['Month'].unique())"
   ]
  },
  {
   "cell_type": "code",
   "execution_count": 45,
   "id": "4e5da6f5",
   "metadata": {},
   "outputs": [
    {
     "data": {
      "text/html": [
       "<div>\n",
       "<style scoped>\n",
       "    .dataframe tbody tr th:only-of-type {\n",
       "        vertical-align: middle;\n",
       "    }\n",
       "\n",
       "    .dataframe tbody tr th {\n",
       "        vertical-align: top;\n",
       "    }\n",
       "\n",
       "    .dataframe thead th {\n",
       "        text-align: right;\n",
       "    }\n",
       "</style>\n",
       "<table border=\"1\" class=\"dataframe\">\n",
       "  <thead>\n",
       "    <tr style=\"text-align: right;\">\n",
       "      <th></th>\n",
       "      <th>April</th>\n",
       "      <th>August</th>\n",
       "      <th>July</th>\n",
       "      <th>June</th>\n",
       "      <th>May</th>\n",
       "      <th>September</th>\n",
       "    </tr>\n",
       "  </thead>\n",
       "  <tbody>\n",
       "    <tr>\n",
       "      <th>0</th>\n",
       "      <td>11910</td>\n",
       "      <td>21451</td>\n",
       "      <td>17953</td>\n",
       "      <td>14514</td>\n",
       "      <td>13875</td>\n",
       "      <td>24133</td>\n",
       "    </tr>\n",
       "    <tr>\n",
       "      <th>1</th>\n",
       "      <td>7769</td>\n",
       "      <td>14471</td>\n",
       "      <td>11527</td>\n",
       "      <td>9167</td>\n",
       "      <td>8186</td>\n",
       "      <td>16107</td>\n",
       "    </tr>\n",
       "    <tr>\n",
       "      <th>2</th>\n",
       "      <td>4935</td>\n",
       "      <td>10105</td>\n",
       "      <td>8562</td>\n",
       "      <td>6189</td>\n",
       "      <td>5372</td>\n",
       "      <td>10702</td>\n",
       "    </tr>\n",
       "    <tr>\n",
       "      <th>3</th>\n",
       "      <td>5040</td>\n",
       "      <td>10376</td>\n",
       "      <td>9199</td>\n",
       "      <td>6937</td>\n",
       "      <td>5946</td>\n",
       "      <td>10789</td>\n",
       "    </tr>\n",
       "    <tr>\n",
       "      <th>4</th>\n",
       "      <td>6095</td>\n",
       "      <td>11774</td>\n",
       "      <td>10040</td>\n",
       "      <td>7701</td>\n",
       "      <td>6945</td>\n",
       "      <td>12675</td>\n",
       "    </tr>\n",
       "  </tbody>\n",
       "</table>\n",
       "</div>"
      ],
      "text/plain": [
       "   April  August   July   June    May  September\n",
       "0  11910   21451  17953  14514  13875      24133\n",
       "1   7769   14471  11527   9167   8186      16107\n",
       "2   4935   10105   8562   6189   5372      10702\n",
       "3   5040   10376   9199   6937   5946      10789\n",
       "4   6095   11774  10040   7701   6945      12675"
      ]
     },
     "execution_count": 45,
     "metadata": {},
     "output_type": "execute_result"
    }
   ],
   "source": [
    "df_hour_month.head()"
   ]
  },
  {
   "cell_type": "code",
   "execution_count": 49,
   "id": "8d6eeced",
   "metadata": {},
   "outputs": [
    {
     "data": {
      "image/png": "[encoded data removed]",
      "text/plain": [
       "<Figure size 864x432 with 1 Axes>"
      ]
     },
     "metadata": {
      "needs_background": "light"
     },
     "output_type": "display_data"
    }
   ],
   "source": [
    "df_hour_month.plot(kind='bar',figsize=(12,6),stacked=True)\n",
    "plt.xlabel(\"Hour\")\n",
    "plt.ylabel(\"Number-of-Trips\")\n",
    "plt.title(\"Trip-By-Hour-Month\")\n",
    "plt.show()"
   ]
  },
  {
   "cell_type": "code",
   "execution_count": 50,
   "id": "3cbf8a9f",
   "metadata": {},
   "outputs": [
    {
     "data": {
      "image/png": "[encoded data removed]",
      "text/plain": [
       "<Figure size 1800x432 with 1 Axes>"
      ]
     },
     "metadata": {
      "needs_background": "light"
     },
     "output_type": "display_data"
    }
   ],
   "source": [
    "df_hour_month.plot(kind='bar',figsize=(25,6),width=0.8)\n",
    "plt.xlabel(\"Hour\")\n",
    "plt.ylabel(\"Number-of-Trips\")\n",
    "plt.title(\"Trip-By-Hour-Month\")\n",
    "plt.show()"
   ]
  },
  {
   "cell_type": "markdown",
   "id": "197744fd",
   "metadata": {},
   "source": [
    "### Trip weekday and Hour"
   ]
  },
  {
   "cell_type": "code",
   "execution_count": 51,
   "id": "122e128a",
   "metadata": {},
   "outputs": [
    {
     "data": {
      "text/html": [
       "<div>\n",
       "<style scoped>\n",
       "    .dataframe tbody tr th:only-of-type {\n",
       "        vertical-align: middle;\n",
       "    }\n",
       "\n",
       "    .dataframe tbody tr th {\n",
       "        vertical-align: top;\n",
       "    }\n",
       "\n",
       "    .dataframe thead th {\n",
       "        text-align: right;\n",
       "    }\n",
       "</style>\n",
       "<table border=\"1\" class=\"dataframe\">\n",
       "  <thead>\n",
       "    <tr style=\"text-align: right;\">\n",
       "      <th></th>\n",
       "      <th></th>\n",
       "      <th>Number_of_Trip</th>\n",
       "    </tr>\n",
       "    <tr>\n",
       "      <th>Weekday</th>\n",
       "      <th>Hour</th>\n",
       "      <th></th>\n",
       "    </tr>\n",
       "  </thead>\n",
       "  <tbody>\n",
       "    <tr>\n",
       "      <th rowspan=\"10\" valign=\"top\">Friday</th>\n",
       "      <th>0</th>\n",
       "      <td>13716</td>\n",
       "    </tr>\n",
       "    <tr>\n",
       "      <th>1</th>\n",
       "      <td>8163</td>\n",
       "    </tr>\n",
       "    <tr>\n",
       "      <th>2</th>\n",
       "      <td>5350</td>\n",
       "    </tr>\n",
       "    <tr>\n",
       "      <th>3</th>\n",
       "      <td>6930</td>\n",
       "    </tr>\n",
       "    <tr>\n",
       "      <th>4</th>\n",
       "      <td>8806</td>\n",
       "    </tr>\n",
       "    <tr>\n",
       "      <th>5</th>\n",
       "      <td>13450</td>\n",
       "    </tr>\n",
       "    <tr>\n",
       "      <th>6</th>\n",
       "      <td>23412</td>\n",
       "    </tr>\n",
       "    <tr>\n",
       "      <th>7</th>\n",
       "      <td>32061</td>\n",
       "    </tr>\n",
       "    <tr>\n",
       "      <th>8</th>\n",
       "      <td>31509</td>\n",
       "    </tr>\n",
       "    <tr>\n",
       "      <th>9</th>\n",
       "      <td>25230</td>\n",
       "    </tr>\n",
       "  </tbody>\n",
       "</table>\n",
       "</div>"
      ],
      "text/plain": [
       "              Number_of_Trip\n",
       "Weekday Hour                \n",
       "Friday  0              13716\n",
       "        1               8163\n",
       "        2               5350\n",
       "        3               6930\n",
       "        4               8806\n",
       "        5              13450\n",
       "        6              23412\n",
       "        7              32061\n",
       "        8              31509\n",
       "        9              25230"
      ]
     },
     "execution_count": 51,
     "metadata": {},
     "output_type": "execute_result"
    }
   ],
   "source": [
    "df_weekday_hour_grouped=df.groupby(['Weekday','Hour']).count()\n",
    "df_weekday_hour=pd.DataFrame({\"Number_of_Trip\":df_weekday_hour_grouped.values[:,0]},df_weekday_hour_grouped.index)\n",
    "df_weekday_hour.head(10)"
   ]
  },
  {
   "cell_type": "code",
   "execution_count": 52,
   "id": "02c6e568",
   "metadata": {},
   "outputs": [
    {
     "data": {
      "text/html": [
       "<div>\n",
       "<style scoped>\n",
       "    .dataframe tbody tr th:only-of-type {\n",
       "        vertical-align: middle;\n",
       "    }\n",
       "\n",
       "    .dataframe tbody tr th {\n",
       "        vertical-align: top;\n",
       "    }\n",
       "\n",
       "    .dataframe thead th {\n",
       "        text-align: right;\n",
       "    }\n",
       "</style>\n",
       "<table border=\"1\" class=\"dataframe\">\n",
       "  <thead>\n",
       "    <tr style=\"text-align: right;\">\n",
       "      <th></th>\n",
       "      <th>Weekday</th>\n",
       "      <th>Hour</th>\n",
       "      <th>Number_of_Trip</th>\n",
       "    </tr>\n",
       "  </thead>\n",
       "  <tbody>\n",
       "    <tr>\n",
       "      <th>0</th>\n",
       "      <td>Friday</td>\n",
       "      <td>0</td>\n",
       "      <td>13716</td>\n",
       "    </tr>\n",
       "    <tr>\n",
       "      <th>1</th>\n",
       "      <td>Friday</td>\n",
       "      <td>1</td>\n",
       "      <td>8163</td>\n",
       "    </tr>\n",
       "    <tr>\n",
       "      <th>2</th>\n",
       "      <td>Friday</td>\n",
       "      <td>2</td>\n",
       "      <td>5350</td>\n",
       "    </tr>\n",
       "    <tr>\n",
       "      <th>3</th>\n",
       "      <td>Friday</td>\n",
       "      <td>3</td>\n",
       "      <td>6930</td>\n",
       "    </tr>\n",
       "    <tr>\n",
       "      <th>4</th>\n",
       "      <td>Friday</td>\n",
       "      <td>4</td>\n",
       "      <td>8806</td>\n",
       "    </tr>\n",
       "  </tbody>\n",
       "</table>\n",
       "</div>"
      ],
      "text/plain": [
       "  Weekday  Hour  Number_of_Trip\n",
       "0  Friday     0           13716\n",
       "1  Friday     1            8163\n",
       "2  Friday     2            5350\n",
       "3  Friday     3            6930\n",
       "4  Friday     4            8806"
      ]
     },
     "execution_count": 52,
     "metadata": {},
     "output_type": "execute_result"
    }
   ],
   "source": [
    "df_weekday_hour.reset_index(inplace=True)\n",
    "df_weekday_hour.head()"
   ]
  },
  {
   "cell_type": "code",
   "execution_count": 54,
   "id": "f6e89ce2",
   "metadata": {},
   "outputs": [
    {
     "data": {
      "text/html": [
       "<div>\n",
       "<style scoped>\n",
       "    .dataframe tbody tr th:only-of-type {\n",
       "        vertical-align: middle;\n",
       "    }\n",
       "\n",
       "    .dataframe tbody tr th {\n",
       "        vertical-align: top;\n",
       "    }\n",
       "\n",
       "    .dataframe thead th {\n",
       "        text-align: right;\n",
       "    }\n",
       "</style>\n",
       "<table border=\"1\" class=\"dataframe\">\n",
       "  <thead>\n",
       "    <tr style=\"text-align: right;\">\n",
       "      <th></th>\n",
       "      <th>0</th>\n",
       "      <th>1</th>\n",
       "      <th>2</th>\n",
       "      <th>3</th>\n",
       "      <th>4</th>\n",
       "      <th>5</th>\n",
       "      <th>6</th>\n",
       "      <th>7</th>\n",
       "      <th>8</th>\n",
       "      <th>9</th>\n",
       "      <th>...</th>\n",
       "      <th>14</th>\n",
       "      <th>15</th>\n",
       "      <th>16</th>\n",
       "      <th>17</th>\n",
       "      <th>18</th>\n",
       "      <th>19</th>\n",
       "      <th>20</th>\n",
       "      <th>21</th>\n",
       "      <th>22</th>\n",
       "      <th>23</th>\n",
       "    </tr>\n",
       "  </thead>\n",
       "  <tbody>\n",
       "    <tr>\n",
       "      <th>Tuesday</th>\n",
       "      <td>13716</td>\n",
       "      <td>8163</td>\n",
       "      <td>5350</td>\n",
       "      <td>6930</td>\n",
       "      <td>8806</td>\n",
       "      <td>13450</td>\n",
       "      <td>23412</td>\n",
       "      <td>32061</td>\n",
       "      <td>31509</td>\n",
       "      <td>25230</td>\n",
       "      <td>...</td>\n",
       "      <td>36206</td>\n",
       "      <td>43673</td>\n",
       "      <td>48169</td>\n",
       "      <td>51961</td>\n",
       "      <td>54762</td>\n",
       "      <td>49595</td>\n",
       "      <td>43542</td>\n",
       "      <td>48323</td>\n",
       "      <td>49409</td>\n",
       "      <td>41260</td>\n",
       "    </tr>\n",
       "    <tr>\n",
       "      <th>Wednesday</th>\n",
       "      <td>6436</td>\n",
       "      <td>3737</td>\n",
       "      <td>2938</td>\n",
       "      <td>6232</td>\n",
       "      <td>9640</td>\n",
       "      <td>15032</td>\n",
       "      <td>23746</td>\n",
       "      <td>31159</td>\n",
       "      <td>29265</td>\n",
       "      <td>22197</td>\n",
       "      <td>...</td>\n",
       "      <td>28157</td>\n",
       "      <td>32744</td>\n",
       "      <td>38770</td>\n",
       "      <td>42023</td>\n",
       "      <td>37000</td>\n",
       "      <td>34159</td>\n",
       "      <td>32849</td>\n",
       "      <td>28925</td>\n",
       "      <td>20158</td>\n",
       "      <td>11811</td>\n",
       "    </tr>\n",
       "    <tr>\n",
       "      <th>Thursday</th>\n",
       "      <td>27633</td>\n",
       "      <td>19189</td>\n",
       "      <td>12710</td>\n",
       "      <td>9542</td>\n",
       "      <td>6846</td>\n",
       "      <td>7084</td>\n",
       "      <td>8579</td>\n",
       "      <td>11014</td>\n",
       "      <td>14411</td>\n",
       "      <td>17669</td>\n",
       "      <td>...</td>\n",
       "      <td>31418</td>\n",
       "      <td>38769</td>\n",
       "      <td>43512</td>\n",
       "      <td>42844</td>\n",
       "      <td>45883</td>\n",
       "      <td>41098</td>\n",
       "      <td>38714</td>\n",
       "      <td>43826</td>\n",
       "      <td>47951</td>\n",
       "      <td>43174</td>\n",
       "    </tr>\n",
       "    <tr>\n",
       "      <th>Friday</th>\n",
       "      <td>32877</td>\n",
       "      <td>23015</td>\n",
       "      <td>15436</td>\n",
       "      <td>10597</td>\n",
       "      <td>6374</td>\n",
       "      <td>6169</td>\n",
       "      <td>6596</td>\n",
       "      <td>8728</td>\n",
       "      <td>12128</td>\n",
       "      <td>16401</td>\n",
       "      <td>...</td>\n",
       "      <td>28151</td>\n",
       "      <td>31112</td>\n",
       "      <td>33038</td>\n",
       "      <td>31521</td>\n",
       "      <td>28291</td>\n",
       "      <td>25948</td>\n",
       "      <td>25076</td>\n",
       "      <td>23967</td>\n",
       "      <td>19566</td>\n",
       "      <td>12166</td>\n",
       "    </tr>\n",
       "    <tr>\n",
       "      <th>Saturday</th>\n",
       "      <td>9293</td>\n",
       "      <td>5290</td>\n",
       "      <td>3719</td>\n",
       "      <td>5637</td>\n",
       "      <td>8505</td>\n",
       "      <td>14169</td>\n",
       "      <td>27065</td>\n",
       "      <td>37038</td>\n",
       "      <td>35431</td>\n",
       "      <td>27812</td>\n",
       "      <td>...</td>\n",
       "      <td>36699</td>\n",
       "      <td>44442</td>\n",
       "      <td>50560</td>\n",
       "      <td>56704</td>\n",
       "      <td>55825</td>\n",
       "      <td>51907</td>\n",
       "      <td>51990</td>\n",
       "      <td>51953</td>\n",
       "      <td>44194</td>\n",
       "      <td>27764</td>\n",
       "    </tr>\n",
       "  </tbody>\n",
       "</table>\n",
       "<p>5 rows × 24 columns</p>\n",
       "</div>"
      ],
      "text/plain": [
       "              0      1      2      3     4      5      6      7      8   \\\n",
       "Tuesday    13716   8163   5350   6930  8806  13450  23412  32061  31509   \n",
       "Wednesday   6436   3737   2938   6232  9640  15032  23746  31159  29265   \n",
       "Thursday   27633  19189  12710   9542  6846   7084   8579  11014  14411   \n",
       "Friday     32877  23015  15436  10597  6374   6169   6596   8728  12128   \n",
       "Saturday    9293   5290   3719   5637  8505  14169  27065  37038  35431   \n",
       "\n",
       "              9   ...     14     15     16     17     18     19     20     21  \\\n",
       "Tuesday    25230  ...  36206  43673  48169  51961  54762  49595  43542  48323   \n",
       "Wednesday  22197  ...  28157  32744  38770  42023  37000  34159  32849  28925   \n",
       "Thursday   17669  ...  31418  38769  43512  42844  45883  41098  38714  43826   \n",
       "Friday     16401  ...  28151  31112  33038  31521  28291  25948  25076  23967   \n",
       "Saturday   27812  ...  36699  44442  50560  56704  55825  51907  51990  51953   \n",
       "\n",
       "              22     23  \n",
       "Tuesday    49409  41260  \n",
       "Wednesday  20158  11811  \n",
       "Thursday   47951  43174  \n",
       "Friday     19566  12166  \n",
       "Saturday   44194  27764  \n",
       "\n",
       "[5 rows x 24 columns]"
      ]
     },
     "execution_count": 54,
     "metadata": {},
     "output_type": "execute_result"
    }
   ],
   "source": [
    "data_weekday_hour=df_weekday_hour['Number_of_Trip'].values.reshape(7,24)\n",
    "df_weekday_hour=pd.DataFrame(data=data_weekday_hour,index=df['Weekday'].unique(),columns=df['Hour'].unique())\n",
    "df_weekday_hour.head()"
   ]
  },
  {
   "cell_type": "code",
   "execution_count": 56,
   "id": "8963ccd9",
   "metadata": {},
   "outputs": [
    {
     "data": {
      "image/png": "[encoded data removed]",
      "text/plain": [
       "<Figure size 1440x432 with 1 Axes>"
      ]
     },
     "metadata": {
      "needs_background": "light"
     },
     "output_type": "display_data"
    }
   ],
   "source": [
    "df_weekday_hour.plot(kind='bar',figsize=(20,6),width=0.8)\n",
    "plt.xlabel(\"Weekday\")\n",
    "plt.ylabel(\"Number-of-Trips\")\n",
    "plt.title(\"Trip-By-Weekday-Hour\")\n",
    "plt.show()"
   ]
  },
  {
   "cell_type": "markdown",
   "id": "6e4b7c55",
   "metadata": {},
   "source": [
    "At the same time we see that on weekend days the number of trips around midnight, 1:00 and 2:00 is higher than on working days."
   ]
  },
  {
   "cell_type": "markdown",
   "id": "655d61d6",
   "metadata": {},
   "source": [
    "### Trip by weekday and month"
   ]
  },
  {
   "cell_type": "code",
   "execution_count": 57,
   "id": "55065124",
   "metadata": {},
   "outputs": [
    {
     "data": {
      "text/html": [
       "<div>\n",
       "<style scoped>\n",
       "    .dataframe tbody tr th:only-of-type {\n",
       "        vertical-align: middle;\n",
       "    }\n",
       "\n",
       "    .dataframe tbody tr th {\n",
       "        vertical-align: top;\n",
       "    }\n",
       "\n",
       "    .dataframe thead th {\n",
       "        text-align: right;\n",
       "    }\n",
       "</style>\n",
       "<table border=\"1\" class=\"dataframe\">\n",
       "  <thead>\n",
       "    <tr style=\"text-align: right;\">\n",
       "      <th></th>\n",
       "      <th></th>\n",
       "      <th>Number_of_Trip</th>\n",
       "    </tr>\n",
       "    <tr>\n",
       "      <th>Weekday</th>\n",
       "      <th>Month</th>\n",
       "      <th></th>\n",
       "    </tr>\n",
       "  </thead>\n",
       "  <tbody>\n",
       "    <tr>\n",
       "      <th rowspan=\"6\" valign=\"top\">Friday</th>\n",
       "      <th>April</th>\n",
       "      <td>90303</td>\n",
       "    </tr>\n",
       "    <tr>\n",
       "      <th>August</th>\n",
       "      <td>148674</td>\n",
       "    </tr>\n",
       "    <tr>\n",
       "      <th>July</th>\n",
       "      <td>102735</td>\n",
       "    </tr>\n",
       "    <tr>\n",
       "      <th>June</th>\n",
       "      <td>105056</td>\n",
       "    </tr>\n",
       "    <tr>\n",
       "      <th>May</th>\n",
       "      <td>133991</td>\n",
       "    </tr>\n",
       "    <tr>\n",
       "      <th>September</th>\n",
       "      <td>160380</td>\n",
       "    </tr>\n",
       "    <tr>\n",
       "      <th rowspan=\"4\" valign=\"top\">Monday</th>\n",
       "      <th>April</th>\n",
       "      <td>60861</td>\n",
       "    </tr>\n",
       "    <tr>\n",
       "      <th>August</th>\n",
       "      <td>91633</td>\n",
       "    </tr>\n",
       "    <tr>\n",
       "      <th>July</th>\n",
       "      <td>93189</td>\n",
       "    </tr>\n",
       "    <tr>\n",
       "      <th>June</th>\n",
       "      <td>94655</td>\n",
       "    </tr>\n",
       "  </tbody>\n",
       "</table>\n",
       "</div>"
      ],
      "text/plain": [
       "                   Number_of_Trip\n",
       "Weekday Month                    \n",
       "Friday  April               90303\n",
       "        August             148674\n",
       "        July               102735\n",
       "        June               105056\n",
       "        May                133991\n",
       "        September          160380\n",
       "Monday  April               60861\n",
       "        August              91633\n",
       "        July                93189\n",
       "        June                94655"
      ]
     },
     "execution_count": 57,
     "metadata": {},
     "output_type": "execute_result"
    }
   ],
   "source": [
    "df_weekday_month_grouped=df.groupby(['Weekday','Month']).count()\n",
    "df_weekday_month=pd.DataFrame({\"Number_of_Trip\":df_weekday_month_grouped.values[:,0]},df_weekday_month_grouped.index)\n",
    "df_weekday_month.head(10)"
   ]
  },
  {
   "cell_type": "code",
   "execution_count": 60,
   "id": "8e62bb6b",
   "metadata": {},
   "outputs": [
    {
     "data": {
      "text/html": [
       "<div>\n",
       "<style scoped>\n",
       "    .dataframe tbody tr th:only-of-type {\n",
       "        vertical-align: middle;\n",
       "    }\n",
       "\n",
       "    .dataframe tbody tr th {\n",
       "        vertical-align: top;\n",
       "    }\n",
       "\n",
       "    .dataframe thead th {\n",
       "        text-align: right;\n",
       "    }\n",
       "</style>\n",
       "<table border=\"1\" class=\"dataframe\">\n",
       "  <thead>\n",
       "    <tr style=\"text-align: right;\">\n",
       "      <th></th>\n",
       "      <th>Tuesday</th>\n",
       "      <th>Wednesday</th>\n",
       "      <th>Thursday</th>\n",
       "      <th>Friday</th>\n",
       "      <th>Saturday</th>\n",
       "      <th>Sunday</th>\n",
       "      <th>Monday</th>\n",
       "    </tr>\n",
       "  </thead>\n",
       "  <tbody>\n",
       "    <tr>\n",
       "      <th>April</th>\n",
       "      <td>90303</td>\n",
       "      <td>148674</td>\n",
       "      <td>102735</td>\n",
       "      <td>105056</td>\n",
       "      <td>133991</td>\n",
       "      <td>160380</td>\n",
       "      <td>60861</td>\n",
       "    </tr>\n",
       "    <tr>\n",
       "      <th>August</th>\n",
       "      <td>91633</td>\n",
       "      <td>93189</td>\n",
       "      <td>94655</td>\n",
       "      <td>63846</td>\n",
       "      <td>137288</td>\n",
       "      <td>77218</td>\n",
       "      <td>132225</td>\n",
       "    </tr>\n",
       "    <tr>\n",
       "      <th>July</th>\n",
       "      <td>90260</td>\n",
       "      <td>81364</td>\n",
       "      <td>102990</td>\n",
       "      <td>162057</td>\n",
       "      <td>51251</td>\n",
       "      <td>110246</td>\n",
       "      <td>76327</td>\n",
       "    </tr>\n",
       "    <tr>\n",
       "      <th>June</th>\n",
       "      <td>79656</td>\n",
       "      <td>56168</td>\n",
       "      <td>116532</td>\n",
       "      <td>85067</td>\n",
       "      <td>124117</td>\n",
       "      <td>148439</td>\n",
       "      <td>115325</td>\n",
       "    </tr>\n",
       "    <tr>\n",
       "      <th>May</th>\n",
       "      <td>128921</td>\n",
       "      <td>153276</td>\n",
       "      <td>91185</td>\n",
       "      <td>107124</td>\n",
       "      <td>137454</td>\n",
       "      <td>88134</td>\n",
       "      <td>76662</td>\n",
       "    </tr>\n",
       "  </tbody>\n",
       "</table>\n",
       "</div>"
      ],
      "text/plain": [
       "        Tuesday  Wednesday  Thursday  Friday  Saturday  Sunday  Monday\n",
       "April     90303     148674    102735  105056    133991  160380   60861\n",
       "August    91633      93189     94655   63846    137288   77218  132225\n",
       "July      90260      81364    102990  162057     51251  110246   76327\n",
       "June      79656      56168    116532   85067    124117  148439  115325\n",
       "May      128921     153276     91185  107124    137454   88134   76662"
      ]
     },
     "execution_count": 60,
     "metadata": {},
     "output_type": "execute_result"
    }
   ],
   "source": [
    "data_weekday_hour=df_weekday_month['Number_of_Trip'].values.reshape(6,7)\n",
    "df_weekday_month=pd.DataFrame(data=data_weekday_hour,index=df['Month'].unique(),columns=df['Weekday'].unique())\n",
    "df_weekday_month.head()"
   ]
  },
  {
   "cell_type": "code",
   "execution_count": 63,
   "id": "928fa6a9",
   "metadata": {},
   "outputs": [
    {
     "data": {
      "image/png": "[encoded data removed]",
      "text/plain": [
       "<Figure size 864x432 with 1 Axes>"
      ]
     },
     "metadata": {
      "needs_background": "light"
     },
     "output_type": "display_data"
    }
   ],
   "source": [
    "df_weekday_month.plot(kind='bar',figsize=(12,6),stacked=True)\n",
    "plt.xlabel(\"Month\")\n",
    "plt.ylabel(\"Number-of-Trips\")\n",
    "plt.title(\"Trip-By-Weekday-Month\")\n",
    "plt.show()"
   ]
  },
  {
   "cell_type": "code",
   "execution_count": 61,
   "id": "1ccf2c82",
   "metadata": {},
   "outputs": [
    {
     "data": {
      "image/png": "[encoded data removed]",
      "text/plain": [
       "<Figure size 1440x432 with 1 Axes>"
      ]
     },
     "metadata": {
      "needs_background": "light"
     },
     "output_type": "display_data"
    }
   ],
   "source": [
    "df_weekday_month.plot(kind='bar',figsize=(20,6),width=0.8)\n",
    "plt.xlabel(\"Month\")\n",
    "plt.ylabel(\"Number-of-Trips\")\n",
    "plt.title(\"Trip-By-Weekday-Month\")\n",
    "plt.show()"
   ]
  },
  {
   "cell_type": "markdown",
   "id": "73869c8b",
   "metadata": {},
   "source": [
    "# Heat Map"
   ]
  },
  {
   "cell_type": "code",
   "execution_count": 66,
   "id": "c7c7dd86",
   "metadata": {},
   "outputs": [],
   "source": [
    "def count_rows(rows):\n",
    "  return len(rows)"
   ]
  },
  {
   "cell_type": "code",
   "execution_count": 67,
   "id": "f8cf10e7",
   "metadata": {},
   "outputs": [],
   "source": [
    "def heatmap(col1, col2):\n",
    "  col_data = df.groupby([col1,col2]).apply(count_rows)\n",
    "  heat_map_data=col_data.unstack()\n",
    "  plt.figure(figsize=(15,8))\n",
    "  return sns.heatmap(heat_map_data)  "
   ]
  },
  {
   "cell_type": "code",
   "execution_count": 68,
   "id": "82f69565",
   "metadata": {},
   "outputs": [
    {
     "data": {
      "text/plain": [
       "<AxesSubplot:xlabel='Hour', ylabel='Day'>"
      ]
     },
     "execution_count": 68,
     "metadata": {},
     "output_type": "execute_result"
    },
    {
     "data": {
      "image/png": "[encoded data removed]",
      "text/plain": [
       "<Figure size 1080x576 with 2 Axes>"
      ]
     },
     "metadata": {
      "needs_background": "light"
     },
     "output_type": "display_data"
    }
   ],
   "source": [
    "heatmap('Day','Hour')"
   ]
  },
  {
   "cell_type": "code",
   "execution_count": 69,
   "id": "fb416ddf",
   "metadata": {},
   "outputs": [
    {
     "data": {
      "text/plain": [
       "<AxesSubplot:xlabel='Month', ylabel='Day'>"
      ]
     },
     "execution_count": 69,
     "metadata": {},
     "output_type": "execute_result"
    },
    {
     "data": {
      "image/png": "[encoded data removed]",
      "text/plain": [
       "<Figure size 1080x576 with 2 Axes>"
      ]
     },
     "metadata": {
      "needs_background": "light"
     },
     "output_type": "display_data"
    }
   ],
   "source": [
    "heatmap('Day','Month')"
   ]
  },
  {
   "cell_type": "code",
   "execution_count": 70,
   "id": "7163ce75",
   "metadata": {},
   "outputs": [
    {
     "data": {
      "text/plain": [
       "<AxesSubplot:xlabel='Month', ylabel='Weekday'>"
      ]
     },
     "execution_count": 70,
     "metadata": {},
     "output_type": "execute_result"
    },
    {
     "data": {
      "image/png": "[encoded data removed]",
      "text/plain": [
       "<Figure size 1080x576 with 2 Axes>"
      ]
     },
     "metadata": {
      "needs_background": "light"
     },
     "output_type": "display_data"
    }
   ],
   "source": [
    "heatmap('Weekday','Month')"
   ]
  },
  {
   "cell_type": "code",
   "execution_count": 76,
   "id": "661f3014",
   "metadata": {},
   "outputs": [],
   "source": [
    "count=df['Hour'].value_counts()"
   ]
  },
  {
   "cell_type": "code",
   "execution_count": 78,
   "id": "20844c00",
   "metadata": {},
   "outputs": [],
   "source": [
    "# plt.figure(figsize=(12,8))\n",
    "# sns.pointplot(x='Hour',y='count',hue='Weekday',data=df)"
   ]
  },
  {
   "cell_type": "code",
   "execution_count": null,
   "id": "84f6e661",
   "metadata": {},
   "outputs": [],
   "source": []
  }
 ],
 "metadata": {
  "kernelspec": {
   "display_name": "Python 3 (ipykernel)",
   "language": "python",
   "name": "python3"
  },
  "language_info": {
   "codemirror_mode": {
    "name": "ipython",
    "version": 3
   },
   "file_extension": ".py",
   "mimetype": "text/x-python",
   "name": "python",
   "nbconvert_exporter": "python",
   "pygments_lexer": "ipython3",
   "version": "3.9.12"
  }
 },
 "nbformat": 4,
 "nbformat_minor": 5
}
